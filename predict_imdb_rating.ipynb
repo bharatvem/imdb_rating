{
 "cells": [
  {
   "cell_type": "code",
   "execution_count": 2,
   "metadata": {
    "ExecuteTime": {
     "end_time": "2018-04-01T00:33:52.910320Z",
     "start_time": "2018-04-01T00:33:52.906531Z"
    },
    "collapsed": true
   },
   "outputs": [],
   "source": [
    "import pandas as pd\n",
    "import numpy as np\n",
    "import itertools"
   ]
  },
  {
   "cell_type": "code",
   "execution_count": 3,
   "metadata": {
    "ExecuteTime": {
     "end_time": "2018-04-01T00:33:54.885564Z",
     "start_time": "2018-04-01T00:33:54.837033Z"
    },
    "collapsed": true
   },
   "outputs": [],
   "source": [
    "mov = pd.read_csv(\"movie_metadata.csv\")"
   ]
  },
  {
   "cell_type": "code",
   "execution_count": 4,
   "metadata": {
    "ExecuteTime": {
     "end_time": "2018-04-01T00:33:56.076927Z",
     "start_time": "2018-04-01T00:33:56.035481Z"
    }
   },
   "outputs": [
    {
     "data": {
      "text/html": [
       "<div>\n",
       "<style>\n",
       "    .dataframe thead tr:only-child th {\n",
       "        text-align: right;\n",
       "    }\n",
       "\n",
       "    .dataframe thead th {\n",
       "        text-align: left;\n",
       "    }\n",
       "\n",
       "    .dataframe tbody tr th {\n",
       "        vertical-align: top;\n",
       "    }\n",
       "</style>\n",
       "<table border=\"1\" class=\"dataframe\">\n",
       "  <thead>\n",
       "    <tr style=\"text-align: right;\">\n",
       "      <th></th>\n",
       "      <th>color</th>\n",
       "      <th>director_name</th>\n",
       "      <th>num_critic_for_reviews</th>\n",
       "      <th>duration</th>\n",
       "      <th>director_facebook_likes</th>\n",
       "      <th>actor_3_facebook_likes</th>\n",
       "      <th>actor_2_name</th>\n",
       "      <th>actor_1_facebook_likes</th>\n",
       "      <th>gross</th>\n",
       "      <th>genres</th>\n",
       "      <th>...</th>\n",
       "      <th>num_user_for_reviews</th>\n",
       "      <th>language</th>\n",
       "      <th>country</th>\n",
       "      <th>content_rating</th>\n",
       "      <th>budget</th>\n",
       "      <th>title_year</th>\n",
       "      <th>actor_2_facebook_likes</th>\n",
       "      <th>imdb_score</th>\n",
       "      <th>aspect_ratio</th>\n",
       "      <th>movie_facebook_likes</th>\n",
       "    </tr>\n",
       "  </thead>\n",
       "  <tbody>\n",
       "    <tr>\n",
       "      <th>0</th>\n",
       "      <td>Color</td>\n",
       "      <td>James Cameron</td>\n",
       "      <td>723.0</td>\n",
       "      <td>178.0</td>\n",
       "      <td>0.0</td>\n",
       "      <td>855.0</td>\n",
       "      <td>Joel David Moore</td>\n",
       "      <td>1000.0</td>\n",
       "      <td>760505847.0</td>\n",
       "      <td>Action|Adventure|Fantasy|Sci-Fi</td>\n",
       "      <td>...</td>\n",
       "      <td>3054.0</td>\n",
       "      <td>English</td>\n",
       "      <td>USA</td>\n",
       "      <td>PG-13</td>\n",
       "      <td>237000000.0</td>\n",
       "      <td>2009.0</td>\n",
       "      <td>936.0</td>\n",
       "      <td>7.9</td>\n",
       "      <td>1.78</td>\n",
       "      <td>33000</td>\n",
       "    </tr>\n",
       "    <tr>\n",
       "      <th>1</th>\n",
       "      <td>Color</td>\n",
       "      <td>Gore Verbinski</td>\n",
       "      <td>302.0</td>\n",
       "      <td>169.0</td>\n",
       "      <td>563.0</td>\n",
       "      <td>1000.0</td>\n",
       "      <td>Orlando Bloom</td>\n",
       "      <td>40000.0</td>\n",
       "      <td>309404152.0</td>\n",
       "      <td>Action|Adventure|Fantasy</td>\n",
       "      <td>...</td>\n",
       "      <td>1238.0</td>\n",
       "      <td>English</td>\n",
       "      <td>USA</td>\n",
       "      <td>PG-13</td>\n",
       "      <td>300000000.0</td>\n",
       "      <td>2007.0</td>\n",
       "      <td>5000.0</td>\n",
       "      <td>7.1</td>\n",
       "      <td>2.35</td>\n",
       "      <td>0</td>\n",
       "    </tr>\n",
       "    <tr>\n",
       "      <th>2</th>\n",
       "      <td>Color</td>\n",
       "      <td>Sam Mendes</td>\n",
       "      <td>602.0</td>\n",
       "      <td>148.0</td>\n",
       "      <td>0.0</td>\n",
       "      <td>161.0</td>\n",
       "      <td>Rory Kinnear</td>\n",
       "      <td>11000.0</td>\n",
       "      <td>200074175.0</td>\n",
       "      <td>Action|Adventure|Thriller</td>\n",
       "      <td>...</td>\n",
       "      <td>994.0</td>\n",
       "      <td>English</td>\n",
       "      <td>UK</td>\n",
       "      <td>PG-13</td>\n",
       "      <td>245000000.0</td>\n",
       "      <td>2015.0</td>\n",
       "      <td>393.0</td>\n",
       "      <td>6.8</td>\n",
       "      <td>2.35</td>\n",
       "      <td>85000</td>\n",
       "    </tr>\n",
       "    <tr>\n",
       "      <th>3</th>\n",
       "      <td>Color</td>\n",
       "      <td>Christopher Nolan</td>\n",
       "      <td>813.0</td>\n",
       "      <td>164.0</td>\n",
       "      <td>22000.0</td>\n",
       "      <td>23000.0</td>\n",
       "      <td>Christian Bale</td>\n",
       "      <td>27000.0</td>\n",
       "      <td>448130642.0</td>\n",
       "      <td>Action|Thriller</td>\n",
       "      <td>...</td>\n",
       "      <td>2701.0</td>\n",
       "      <td>English</td>\n",
       "      <td>USA</td>\n",
       "      <td>PG-13</td>\n",
       "      <td>250000000.0</td>\n",
       "      <td>2012.0</td>\n",
       "      <td>23000.0</td>\n",
       "      <td>8.5</td>\n",
       "      <td>2.35</td>\n",
       "      <td>164000</td>\n",
       "    </tr>\n",
       "    <tr>\n",
       "      <th>4</th>\n",
       "      <td>NaN</td>\n",
       "      <td>Doug Walker</td>\n",
       "      <td>NaN</td>\n",
       "      <td>NaN</td>\n",
       "      <td>131.0</td>\n",
       "      <td>NaN</td>\n",
       "      <td>Rob Walker</td>\n",
       "      <td>131.0</td>\n",
       "      <td>NaN</td>\n",
       "      <td>Documentary</td>\n",
       "      <td>...</td>\n",
       "      <td>NaN</td>\n",
       "      <td>NaN</td>\n",
       "      <td>NaN</td>\n",
       "      <td>NaN</td>\n",
       "      <td>NaN</td>\n",
       "      <td>NaN</td>\n",
       "      <td>12.0</td>\n",
       "      <td>7.1</td>\n",
       "      <td>NaN</td>\n",
       "      <td>0</td>\n",
       "    </tr>\n",
       "  </tbody>\n",
       "</table>\n",
       "<p>5 rows × 28 columns</p>\n",
       "</div>"
      ],
      "text/plain": [
       "   color      director_name  num_critic_for_reviews  duration  \\\n",
       "0  Color      James Cameron                   723.0     178.0   \n",
       "1  Color     Gore Verbinski                   302.0     169.0   \n",
       "2  Color         Sam Mendes                   602.0     148.0   \n",
       "3  Color  Christopher Nolan                   813.0     164.0   \n",
       "4    NaN        Doug Walker                     NaN       NaN   \n",
       "\n",
       "   director_facebook_likes  actor_3_facebook_likes      actor_2_name  \\\n",
       "0                      0.0                   855.0  Joel David Moore   \n",
       "1                    563.0                  1000.0     Orlando Bloom   \n",
       "2                      0.0                   161.0      Rory Kinnear   \n",
       "3                  22000.0                 23000.0    Christian Bale   \n",
       "4                    131.0                     NaN        Rob Walker   \n",
       "\n",
       "   actor_1_facebook_likes        gross                           genres  \\\n",
       "0                  1000.0  760505847.0  Action|Adventure|Fantasy|Sci-Fi   \n",
       "1                 40000.0  309404152.0         Action|Adventure|Fantasy   \n",
       "2                 11000.0  200074175.0        Action|Adventure|Thriller   \n",
       "3                 27000.0  448130642.0                  Action|Thriller   \n",
       "4                   131.0          NaN                      Documentary   \n",
       "\n",
       "          ...          num_user_for_reviews language  country  content_rating  \\\n",
       "0         ...                        3054.0  English      USA           PG-13   \n",
       "1         ...                        1238.0  English      USA           PG-13   \n",
       "2         ...                         994.0  English       UK           PG-13   \n",
       "3         ...                        2701.0  English      USA           PG-13   \n",
       "4         ...                           NaN      NaN      NaN             NaN   \n",
       "\n",
       "        budget  title_year actor_2_facebook_likes imdb_score  aspect_ratio  \\\n",
       "0  237000000.0      2009.0                  936.0        7.9          1.78   \n",
       "1  300000000.0      2007.0                 5000.0        7.1          2.35   \n",
       "2  245000000.0      2015.0                  393.0        6.8          2.35   \n",
       "3  250000000.0      2012.0                23000.0        8.5          2.35   \n",
       "4          NaN         NaN                   12.0        7.1           NaN   \n",
       "\n",
       "  movie_facebook_likes  \n",
       "0                33000  \n",
       "1                    0  \n",
       "2                85000  \n",
       "3               164000  \n",
       "4                    0  \n",
       "\n",
       "[5 rows x 28 columns]"
      ]
     },
     "execution_count": 4,
     "metadata": {},
     "output_type": "execute_result"
    }
   ],
   "source": [
    "mov.head()"
   ]
  },
  {
   "cell_type": "markdown",
   "metadata": {},
   "source": [
    "## Explore the dataset and fill null values"
   ]
  },
  {
   "cell_type": "code",
   "execution_count": 5,
   "metadata": {
    "ExecuteTime": {
     "end_time": "2018-04-01T00:34:02.730233Z",
     "start_time": "2018-04-01T00:34:02.725830Z"
    }
   },
   "outputs": [
    {
     "data": {
      "text/plain": [
       "(5043, 28)"
      ]
     },
     "execution_count": 5,
     "metadata": {},
     "output_type": "execute_result"
    }
   ],
   "source": [
    "mov.shape"
   ]
  },
  {
   "cell_type": "code",
   "execution_count": 6,
   "metadata": {
    "ExecuteTime": {
     "end_time": "2018-04-01T00:34:03.910437Z",
     "start_time": "2018-04-01T00:34:03.892266Z"
    }
   },
   "outputs": [
    {
     "data": {
      "text/plain": [
       "5043"
      ]
     },
     "execution_count": 6,
     "metadata": {},
     "output_type": "execute_result"
    }
   ],
   "source": [
    "#check if imdb score are between 1 & 10\n",
    "sum(mov.imdb_score.between(0,10,inclusive=True))"
   ]
  },
  {
   "cell_type": "code",
   "execution_count": 7,
   "metadata": {
    "ExecuteTime": {
     "end_time": "2018-04-01T00:34:04.894944Z",
     "start_time": "2018-04-01T00:34:04.883909Z"
    }
   },
   "outputs": [
    {
     "data": {
      "text/plain": [
       "gross                        884\n",
       "budget                       492\n",
       "aspect_ratio                 329\n",
       "content_rating               303\n",
       "plot_keywords                153\n",
       "title_year                   108\n",
       "director_name                104\n",
       "director_facebook_likes      104\n",
       "num_critic_for_reviews        50\n",
       "actor_3_name                  23\n",
       "actor_3_facebook_likes        23\n",
       "num_user_for_reviews          21\n",
       "color                         19\n",
       "duration                      15\n",
       "facenumber_in_poster          13\n",
       "actor_2_name                  13\n",
       "actor_2_facebook_likes        13\n",
       "language                      12\n",
       "actor_1_name                   7\n",
       "actor_1_facebook_likes         7\n",
       "country                        5\n",
       "movie_facebook_likes           0\n",
       "genres                         0\n",
       "movie_title                    0\n",
       "num_voted_users                0\n",
       "movie_imdb_link                0\n",
       "imdb_score                     0\n",
       "cast_total_facebook_likes      0\n",
       "dtype: int64"
      ]
     },
     "execution_count": 7,
     "metadata": {},
     "output_type": "execute_result"
    }
   ],
   "source": [
    "# Find out how many null values in the dataset\n",
    "mov.isnull().sum().sort_values(ascending=False)"
   ]
  },
  {
   "cell_type": "raw",
   "metadata": {
    "ExecuteTime": {
     "end_time": "2018-03-31T04:12:08.407877Z",
     "start_time": "2018-03-31T04:12:08.404427Z"
    },
    "collapsed": true
   },
   "source": [
    "### mov['color'].value_counts(dropna=False)"
   ]
  },
  {
   "cell_type": "code",
   "execution_count": 8,
   "metadata": {
    "ExecuteTime": {
     "end_time": "2018-04-01T00:34:24.841146Z",
     "start_time": "2018-04-01T00:34:24.835998Z"
    },
    "collapsed": true
   },
   "outputs": [],
   "source": [
    "def fill_with_mode(df,col_list=[]):\n",
    "    for col in df[col_list]:\n",
    "        mode = df[col].mode()[0]\n",
    "        df[col].fillna(mode,inplace=True)\n",
    "        \n",
    "def fill_with_mean(df,col_list=[]):\n",
    "    for col in df[col_list]:\n",
    "        mean = df[col].mean()\n",
    "        df[col].fillna(mean,inplace=True)"
   ]
  },
  {
   "cell_type": "code",
   "execution_count": 9,
   "metadata": {
    "ExecuteTime": {
     "end_time": "2018-04-01T00:34:26.837900Z",
     "start_time": "2018-04-01T00:34:26.835207Z"
    },
    "collapsed": true
   },
   "outputs": [],
   "source": [
    "mov_clean = mov"
   ]
  },
  {
   "cell_type": "code",
   "execution_count": 10,
   "metadata": {
    "ExecuteTime": {
     "end_time": "2018-04-01T00:34:28.730616Z",
     "start_time": "2018-04-01T00:34:28.713073Z"
    },
    "collapsed": true
   },
   "outputs": [],
   "source": [
    "# change title_year to years_old\n",
    "mov_clean['years_old'] = 2018 - mov_clean['title_year']\n",
    "\n",
    "#change plot_keywords to no_plot_keywords\n",
    "mov_clean['no_plot_keywords'] = mov_clean['plot_keywords'].apply(lambda x: len(x.split('|')) if type(x) == str else 0)\n",
    "\n",
    "# remove unncessary columns\n",
    "dropcol = ['title_year','plot_keywords']\n",
    "mov_clean = mov_clean.drop(dropcol,axis=1)"
   ]
  },
  {
   "cell_type": "code",
   "execution_count": 11,
   "metadata": {
    "ExecuteTime": {
     "end_time": "2018-04-01T00:34:30.130611Z",
     "start_time": "2018-04-01T00:34:30.116387Z"
    },
    "collapsed": true
   },
   "outputs": [],
   "source": [
    "fill_with_mean(mov_clean,['gross','budget','years_old'])\n",
    "fill_with_mode(mov_clean,['color','facenumber_in_poster', 'duration', 'aspect_ratio','content_rating'])"
   ]
  },
  {
   "cell_type": "code",
   "execution_count": 12,
   "metadata": {
    "ExecuteTime": {
     "end_time": "2018-04-01T00:34:31.122638Z",
     "start_time": "2018-04-01T00:34:31.119218Z"
    },
    "collapsed": true
   },
   "outputs": [],
   "source": [
    "# columns to fill with 0 or None\n",
    "fill_0 = ['actor_1_facebook_likes', 'actor_2_facebook_likes','actor_3_facebook_likes','num_user_for_reviews','director_facebook_likes','num_critic_for_reviews']\n",
    "fill_none = ['actor_1_name','actor_2_name','actor_3_name','director_name']"
   ]
  },
  {
   "cell_type": "code",
   "execution_count": 13,
   "metadata": {
    "ExecuteTime": {
     "end_time": "2018-04-01T00:34:32.001656Z",
     "start_time": "2018-04-01T00:34:31.991355Z"
    },
    "collapsed": true
   },
   "outputs": [],
   "source": [
    "# Fill the null values/NaN with 0 or 'None\n",
    "mov_clean[fill_0] = mov_clean[fill_0].fillna(0)\n",
    "mov_clean[fill_none] = mov_clean[fill_none].fillna('None')"
   ]
  },
  {
   "cell_type": "code",
   "execution_count": 14,
   "metadata": {
    "ExecuteTime": {
     "end_time": "2018-04-01T00:35:16.379041Z",
     "start_time": "2018-04-01T00:35:16.366772Z"
    }
   },
   "outputs": [
    {
     "data": {
      "text/plain": [
       "language                     12\n",
       "country                       5\n",
       "no_plot_keywords              0\n",
       "num_voted_users               0\n",
       "director_name                 0\n",
       "num_critic_for_reviews        0\n",
       "duration                      0\n",
       "director_facebook_likes       0\n",
       "actor_3_facebook_likes        0\n",
       "actor_2_name                  0\n",
       "actor_1_facebook_likes        0\n",
       "gross                         0\n",
       "genres                        0\n",
       "actor_1_name                  0\n",
       "movie_title                   0\n",
       "cast_total_facebook_likes     0\n",
       "years_old                     0\n",
       "actor_3_name                  0\n",
       "facenumber_in_poster          0\n",
       "movie_imdb_link               0\n",
       "num_user_for_reviews          0\n",
       "content_rating                0\n",
       "budget                        0\n",
       "actor_2_facebook_likes        0\n",
       "imdb_score                    0\n",
       "aspect_ratio                  0\n",
       "movie_facebook_likes          0\n",
       "color                         0\n",
       "dtype: int64"
      ]
     },
     "execution_count": 14,
     "metadata": {},
     "output_type": "execute_result"
    }
   ],
   "source": [
    "# Find out how many null values are left in the dataset\n",
    "mov_clean.isnull().sum().sort_values(ascending=False)"
   ]
  },
  {
   "cell_type": "markdown",
   "metadata": {
    "collapsed": true
   },
   "source": [
    "## Visualize"
   ]
  },
  {
   "cell_type": "code",
   "execution_count": 15,
   "metadata": {
    "ExecuteTime": {
     "end_time": "2018-04-01T00:35:21.904703Z",
     "start_time": "2018-04-01T00:35:21.410351Z"
    },
    "collapsed": true
   },
   "outputs": [],
   "source": [
    "import matplotlib.pyplot as plt\n",
    "%matplotlib inline\n",
    "import seaborn as sns"
   ]
  },
  {
   "cell_type": "code",
   "execution_count": 16,
   "metadata": {
    "ExecuteTime": {
     "end_time": "2018-04-01T00:35:23.838691Z",
     "start_time": "2018-04-01T00:35:23.600258Z"
    }
   },
   "outputs": [
    {
     "data": {
      "text/plain": [
       "<matplotlib.axes._subplots.AxesSubplot at 0x117213f28>"
      ]
     },
     "execution_count": 16,
     "metadata": {},
     "output_type": "execute_result"
    },
    {
     "data": {
      "image/png": "[encoded data removed]",
      "text/plain": [
       "<matplotlib.figure.Figure at 0x11720ba58>"
      ]
     },
     "metadata": {},
     "output_type": "display_data"
    }
   ],
   "source": [
    "# Distribution of the target variable 'imdb_score'\n",
    "sns.distplot((mov_clean[['imdb_score']]))"
   ]
  },
  {
   "cell_type": "code",
   "execution_count": 17,
   "metadata": {
    "ExecuteTime": {
     "end_time": "2018-04-01T00:35:26.534291Z",
     "start_time": "2018-04-01T00:35:26.145115Z"
    }
   },
   "outputs": [
    {
     "data": {
      "text/plain": [
       "<matplotlib.axes._subplots.AxesSubplot at 0x117365d68>"
      ]
     },
     "execution_count": 17,
     "metadata": {},
     "output_type": "execute_result"
    },
    {
     "data": {
      "image/png": "[encoded data removed]",
      "text/plain": [
       "<matplotlib.figure.Figure at 0x10d68d4e0>"
      ]
     },
     "metadata": {},
     "output_type": "display_data"
    }
   ],
   "source": [
    "sns.heatmap(mov_clean.corr())"
   ]
  },
  {
   "cell_type": "raw",
   "metadata": {},
   "source": [
    "##'director_name','actor_1_name','actor_2_name','actor_3_name'"
   ]
  },
  {
   "cell_type": "raw",
   "metadata": {
    "ExecuteTime": {
     "end_time": "2018-03-30T17:28:03.867103Z",
     "start_time": "2018-03-30T17:28:03.860741Z"
    }
   },
   "source": [
    "# removing columns which wouldn't be important for prediction imdb_score\n",
    "# country because majority is from USA(3900), language - 4700 in english\n",
    "dropcol = ['country','language','movie_imdb_link', 'movie_title']\n",
    "mov_clean = mov_clean.drop(dropcol,axis=1)"
   ]
  },
  {
   "cell_type": "code",
   "execution_count": 18,
   "metadata": {
    "ExecuteTime": {
     "end_time": "2018-04-01T00:35:51.622931Z",
     "start_time": "2018-04-01T00:35:51.618230Z"
    },
    "collapsed": true
   },
   "outputs": [],
   "source": [
    "# select fewer usable columns by looking at the heatmap with correlations\n",
    "mov_clean_sel = mov_clean[['num_critic_for_reviews', 'duration', 'director_facebook_likes',\n",
    "       'actor_1_facebook_likes', 'actor_2_facebook_likes', 'actor_3_facebook_likes', \n",
    "       'num_voted_users', 'facenumber_in_poster', 'no_plot_keywords',   \n",
    "       'aspect_ratio', 'years_old', 'budget', 'imdb_score']]"
   ]
  },
  {
   "cell_type": "code",
   "execution_count": 19,
   "metadata": {
    "ExecuteTime": {
     "end_time": "2018-04-01T00:35:52.640346Z",
     "start_time": "2018-04-01T00:35:52.606819Z"
    }
   },
   "outputs": [],
   "source": [
    "# Min-Max Scaling on features & target variable\n",
    "from sklearn import preprocessing\n",
    "\n",
    "minmax_scale = preprocessing.MinMaxScaler()\n",
    "cols = mov_clean_sel.columns\n",
    "mov_clean_sel = pd.DataFrame(minmax_scale.fit_transform(mov_clean_sel),columns=cols)"
   ]
  },
  {
   "cell_type": "code",
   "execution_count": 20,
   "metadata": {
    "ExecuteTime": {
     "end_time": "2018-04-01T00:36:12.299963Z",
     "start_time": "2018-04-01T00:36:12.288275Z"
    },
    "collapsed": true
   },
   "outputs": [],
   "source": [
    "# divide to train & test sets\n",
    "train = mov_clean_sel.sample(frac=0.8,random_state=200)\n",
    "train_y, train_x = train[['imdb_score']], train.drop(['imdb_score'],axis=1)\n",
    "\n",
    "test = mov_clean_sel.drop(train.index)\n",
    "test_y, test_x = test[['imdb_score']], test.drop(['imdb_score'],axis=1)"
   ]
  },
  {
   "cell_type": "code",
   "execution_count": 42,
   "metadata": {
    "ExecuteTime": {
     "end_time": "2018-03-31T14:58:09.859440Z",
     "start_time": "2018-03-31T14:58:09.712640Z"
    },
    "collapsed": true
   },
   "outputs": [],
   "source": [
    "#set(mov_clean['genres'].apply(lambda x: x.split('|')).sum())"
   ]
  },
  {
   "cell_type": "code",
   "execution_count": 21,
   "metadata": {
    "ExecuteTime": {
     "end_time": "2018-04-01T00:36:47.296725Z",
     "start_time": "2018-04-01T00:36:47.290571Z"
    }
   },
   "outputs": [],
   "source": [
    "mov_clean['content_rating'].value_counts(dropna=False);"
   ]
  },
  {
   "cell_type": "code",
   "execution_count": 375,
   "metadata": {
    "ExecuteTime": {
     "end_time": "2018-04-01T00:33:14.606760Z",
     "start_time": "2018-04-01T00:33:14.598912Z"
    }
   },
   "outputs": [],
   "source": [
    "mov_clean.loc[mov_clean['content_rating'].isnull(),['movie_title']];"
   ]
  },
  {
   "cell_type": "code",
   "execution_count": 132,
   "metadata": {
    "ExecuteTime": {
     "end_time": "2018-03-31T04:48:51.227756Z",
     "start_time": "2018-03-31T04:48:51.221698Z"
    }
   },
   "outputs": [
    {
     "data": {
      "text/plain": [
       "303"
      ]
     },
     "execution_count": 132,
     "metadata": {},
     "output_type": "execute_result"
    }
   ],
   "source": [
    "mov_clean['content_rating'].isnull().sum()"
   ]
  },
  {
   "cell_type": "markdown",
   "metadata": {},
   "source": [
    "## Sci-kit learn Models"
   ]
  },
  {
   "cell_type": "code",
   "execution_count": 22,
   "metadata": {
    "ExecuteTime": {
     "end_time": "2018-04-01T00:37:21.533537Z",
     "start_time": "2018-04-01T00:37:21.471301Z"
    }
   },
   "outputs": [
    {
     "data": {
      "text/plain": [
       "LinearRegression(copy_X=True, fit_intercept=True, n_jobs=1, normalize=False)"
      ]
     },
     "execution_count": 22,
     "metadata": {},
     "output_type": "execute_result"
    }
   ],
   "source": [
    "# import model\n",
    "from sklearn.linear_model import LinearRegression\n",
    "\n",
    "# instantiate\n",
    "linreg = LinearRegression()\n",
    "\n",
    "# fit the model to the training data (learn the coefficients)\n",
    "linreg.fit(train_x, train_y)"
   ]
  },
  {
   "cell_type": "code",
   "execution_count": 37,
   "metadata": {
    "ExecuteTime": {
     "end_time": "2018-04-01T00:43:39.973943Z",
     "start_time": "2018-04-01T00:43:39.970650Z"
    },
    "collapsed": true
   },
   "outputs": [],
   "source": [
    "# y_hat = the predictions for the test set\n",
    "y_hat = linreg.predict(test_x)"
   ]
  },
  {
   "cell_type": "code",
   "execution_count": 24,
   "metadata": {
    "ExecuteTime": {
     "end_time": "2018-04-01T00:37:26.289698Z",
     "start_time": "2018-04-01T00:37:26.286804Z"
    },
    "collapsed": true
   },
   "outputs": [],
   "source": [
    "from sklearn import metrics"
   ]
  },
  {
   "cell_type": "code",
   "execution_count": 38,
   "metadata": {
    "ExecuteTime": {
     "end_time": "2018-04-01T00:44:30.285456Z",
     "start_time": "2018-04-01T00:44:30.279781Z"
    }
   },
   "outputs": [
    {
     "data": {
      "text/plain": [
       "0.12459109898812218"
      ]
     },
     "execution_count": 38,
     "metadata": {},
     "output_type": "execute_result"
    }
   ],
   "source": [
    "# Root Mean Square error for the sklearn liner regression model\n",
    "np.sqrt(metrics.mean_squared_error(y_pred=y_hat,y_true=test_y))"
   ]
  },
  {
   "cell_type": "code",
   "execution_count": 39,
   "metadata": {
    "ExecuteTime": {
     "end_time": "2018-04-01T00:44:51.154382Z",
     "start_time": "2018-04-01T00:44:51.149237Z"
    }
   },
   "outputs": [
    {
     "data": {
      "text/plain": [
       "0.09501139962989615"
      ]
     },
     "execution_count": 39,
     "metadata": {},
     "output_type": "execute_result"
    }
   ],
   "source": [
    "# mean Absolute Error for the sklearn linear regression model\n",
    "metrics.mean_absolute_error(y_hat,test_y)"
   ]
  },
  {
   "cell_type": "markdown",
   "metadata": {},
   "source": [
    "## Tensorflow - Linear Regression Model"
   ]
  },
  {
   "cell_type": "code",
   "execution_count": 30,
   "metadata": {
    "ExecuteTime": {
     "end_time": "2018-04-01T00:38:35.400519Z",
     "start_time": "2018-04-01T00:38:34.485986Z"
    }
   },
   "outputs": [
    {
     "name": "stderr",
     "output_type": "stream",
     "text": [
      "/Users/bharatvem/anaconda/lib/python3.6/site-packages/h5py/__init__.py:36: FutureWarning: Conversion of the second argument of issubdtype from `float` to `np.floating` is deprecated. In future, it will be treated as `np.float64 == np.dtype(float).type`.\n",
      "  from ._conv import register_converters as _register_converters\n"
     ]
    }
   ],
   "source": [
    "import tensorflow as tf"
   ]
  },
  {
   "cell_type": "code",
   "execution_count": 31,
   "metadata": {
    "ExecuteTime": {
     "end_time": "2018-04-01T00:38:36.504318Z",
     "start_time": "2018-04-01T00:38:36.501451Z"
    },
    "collapsed": true
   },
   "outputs": [],
   "source": [
    "FEATURES = ['num_critic_for_reviews', 'duration', 'director_facebook_likes',\n",
    "       'actor_1_facebook_likes', 'actor_2_facebook_likes',\n",
    "       'actor_3_facebook_likes', 'num_voted_users', 'facenumber_in_poster',\n",
    "       'no_plot_keywords', 'aspect_ratio', 'years_old', 'budget']"
   ]
  },
  {
   "cell_type": "code",
   "execution_count": 32,
   "metadata": {
    "ExecuteTime": {
     "end_time": "2018-04-01T00:38:37.497025Z",
     "start_time": "2018-04-01T00:38:37.488801Z"
    },
    "collapsed": true
   },
   "outputs": [],
   "source": [
    "def pd_input_fn(x,y, num_epochs=None):  # a Pandas dataframe\n",
    "  return tf.estimator.inputs.pandas_input_fn(\n",
    "    x = pd.DataFrame({k: x[k].values for k in FEATURES}),\n",
    "    y = pd.Series(y['imdb_score'].values),\n",
    "    num_epochs=num_epochs,\n",
    "    shuffle=False)\n",
    "\n",
    "def eval_input_fn(x,y, num_epochs=None):  # a Pandas dataframe\n",
    "  return tf.estimator.inputs.pandas_input_fn(\n",
    "    x = pd.DataFrame({k: x[k].values for k in FEATURES}),\n",
    "    y = pd.Series(y['imdb_score'].values),\n",
    "    num_epochs=num_epochs,\n",
    "    shuffle=False)\n",
    "\n",
    "def test_input_fn(x, num_epochs=None):  # a Pandas dataframe\n",
    "  return tf.estimator.inputs.pandas_input_fn(\n",
    "    x = pd.DataFrame({k: x[k].values for k in FEATURES}),\n",
    "    y = None,\n",
    "    num_epochs=num_epochs,\n",
    "    shuffle=False)"
   ]
  },
  {
   "cell_type": "code",
   "execution_count": 33,
   "metadata": {
    "ExecuteTime": {
     "end_time": "2018-04-01T00:38:40.805422Z",
     "start_time": "2018-04-01T00:38:40.797683Z"
    }
   },
   "outputs": [],
   "source": [
    "# define the type of columns that are sent in the input **for the Regression model**\n",
    "featcols = [tf.feature_column.numeric_column(\"num_critic_for_reviews\"),\n",
    "    tf.feature_column.numeric_column(\"duration\"),\n",
    "    tf.feature_column.numeric_column(\"director_facebook_likes\"),\n",
    "    tf.feature_column.numeric_column(\"actor_1_facebook_likes\"),\n",
    "    tf.feature_column.numeric_column(\"actor_2_facebook_likes\"),\n",
    "    tf.feature_column.numeric_column(\"actor_3_facebook_likes\"),\n",
    "    tf.feature_column.numeric_column(\"num_voted_users\"),\n",
    "    tf.feature_column.numeric_column(\"facenumber_in_poster\"),\n",
    "    tf.feature_column.numeric_column(\"no_plot_keywords\"),\n",
    "    tf.feature_column.numeric_column(\"aspect_ratio\"),\n",
    "    tf.feature_column.numeric_column(\"years_old\"),\n",
    "    tf.feature_column.numeric_column(\"budget\")\n",
    "]"
   ]
  },
  {
   "cell_type": "code",
   "execution_count": 36,
   "metadata": {
    "ExecuteTime": {
     "end_time": "2018-04-01T00:40:12.738945Z",
     "start_time": "2018-04-01T00:40:12.732925Z"
    }
   },
   "outputs": [
    {
     "name": "stdout",
     "output_type": "stream",
     "text": [
      "INFO:tensorflow:Using default config.\n",
      "INFO:tensorflow:Using config: {'_model_dir': './model_trained', '_tf_random_seed': None, '_save_summary_steps': 100, '_save_checkpoints_steps': None, '_save_checkpoints_secs': 600, '_session_config': None, '_keep_checkpoint_max': 5, '_keep_checkpoint_every_n_hours': 10000, '_log_step_count_steps': 100, '_service': None, '_cluster_spec': <tensorflow.python.training.server_lib.ClusterSpec object at 0x1275dd9b0>, '_task_type': 'worker', '_task_id': 0, '_global_id_in_cluster': 0, '_master': '', '_evaluation_master': '', '_is_chief': True, '_num_ps_replicas': 0, '_num_worker_replicas': 1}\n"
     ]
    }
   ],
   "source": [
    "# create a LinearRegression model\n",
    "model = tf.estimator.LinearRegressor(featcols,'./model_trained')"
   ]
  },
  {
   "cell_type": "code",
   "execution_count": 35,
   "metadata": {
    "ExecuteTime": {
     "end_time": "2018-04-01T00:38:56.976330Z",
     "start_time": "2018-04-01T00:38:48.067345Z"
    }
   },
   "outputs": [
    {
     "name": "stdout",
     "output_type": "stream",
     "text": [
      "INFO:tensorflow:Calling model_fn.\n",
      "INFO:tensorflow:Done calling model_fn.\n",
      "INFO:tensorflow:Create CheckpointSaverHook.\n",
      "INFO:tensorflow:Graph was finalized.\n",
      "INFO:tensorflow:Restoring parameters from ./model_trained/model.ckpt-9304\n",
      "INFO:tensorflow:Running local_init_op.\n",
      "INFO:tensorflow:Done running local_init_op.\n",
      "INFO:tensorflow:Saving checkpoints for 9305 into ./model_trained/model.ckpt.\n",
      "INFO:tensorflow:loss = 178.91039, step = 9305\n",
      "INFO:tensorflow:global_step/sec: 282.524\n",
      "INFO:tensorflow:loss = 177.38213, step = 9405 (0.356 sec)\n",
      "INFO:tensorflow:global_step/sec: 443.108\n",
      "INFO:tensorflow:loss = 182.18378, step = 9505 (0.226 sec)\n",
      "INFO:tensorflow:global_step/sec: 375.176\n",
      "INFO:tensorflow:loss = 185.4787, step = 9605 (0.265 sec)\n",
      "INFO:tensorflow:global_step/sec: 454.434\n",
      "INFO:tensorflow:loss = 194.48843, step = 9705 (0.221 sec)\n",
      "INFO:tensorflow:global_step/sec: 427.515\n",
      "INFO:tensorflow:loss = 192.68158, step = 9805 (0.234 sec)\n",
      "INFO:tensorflow:global_step/sec: 440.314\n",
      "INFO:tensorflow:loss = 183.328, step = 9905 (0.226 sec)\n",
      "INFO:tensorflow:global_step/sec: 441.577\n",
      "INFO:tensorflow:loss = 179.68213, step = 10005 (0.228 sec)\n",
      "INFO:tensorflow:global_step/sec: 471.92\n",
      "INFO:tensorflow:loss = 191.68997, step = 10105 (0.212 sec)\n",
      "INFO:tensorflow:global_step/sec: 479.799\n",
      "INFO:tensorflow:loss = 187.51868, step = 10205 (0.208 sec)\n",
      "INFO:tensorflow:global_step/sec: 485.163\n",
      "INFO:tensorflow:loss = 186.63004, step = 10305 (0.207 sec)\n",
      "INFO:tensorflow:global_step/sec: 482.833\n",
      "INFO:tensorflow:loss = 185.93942, step = 10405 (0.206 sec)\n",
      "INFO:tensorflow:global_step/sec: 463.354\n",
      "INFO:tensorflow:loss = 194.58879, step = 10505 (0.216 sec)\n",
      "INFO:tensorflow:global_step/sec: 473.019\n",
      "INFO:tensorflow:loss = 188.33636, step = 10605 (0.211 sec)\n",
      "INFO:tensorflow:global_step/sec: 459.179\n",
      "INFO:tensorflow:loss = 192.24753, step = 10705 (0.218 sec)\n",
      "INFO:tensorflow:global_step/sec: 415.56\n",
      "INFO:tensorflow:loss = 183.79066, step = 10805 (0.242 sec)\n",
      "INFO:tensorflow:global_step/sec: 399.581\n",
      "INFO:tensorflow:loss = 192.17671, step = 10905 (0.250 sec)\n",
      "INFO:tensorflow:global_step/sec: 416.585\n",
      "INFO:tensorflow:loss = 187.95218, step = 11005 (0.240 sec)\n",
      "INFO:tensorflow:global_step/sec: 395.152\n",
      "INFO:tensorflow:loss = 185.75345, step = 11105 (0.254 sec)\n",
      "INFO:tensorflow:global_step/sec: 392.916\n",
      "INFO:tensorflow:loss = 189.8043, step = 11205 (0.253 sec)\n",
      "INFO:tensorflow:global_step/sec: 343.52\n",
      "INFO:tensorflow:loss = 181.46362, step = 11305 (0.293 sec)\n",
      "INFO:tensorflow:global_step/sec: 350.983\n",
      "INFO:tensorflow:loss = 189.85326, step = 11405 (0.285 sec)\n",
      "INFO:tensorflow:global_step/sec: 345.824\n",
      "INFO:tensorflow:loss = 184.12796, step = 11505 (0.291 sec)\n",
      "INFO:tensorflow:global_step/sec: 386.439\n",
      "INFO:tensorflow:loss = 183.70488, step = 11605 (0.256 sec)\n",
      "INFO:tensorflow:global_step/sec: 470.181\n",
      "INFO:tensorflow:loss = 179.76509, step = 11705 (0.213 sec)\n",
      "INFO:tensorflow:global_step/sec: 376.633\n",
      "INFO:tensorflow:loss = 188.25462, step = 11805 (0.266 sec)\n",
      "INFO:tensorflow:global_step/sec: 336.322\n",
      "INFO:tensorflow:loss = 188.48405, step = 11905 (0.299 sec)\n",
      "INFO:tensorflow:global_step/sec: 344.007\n",
      "INFO:tensorflow:loss = 190.17331, step = 12005 (0.290 sec)\n",
      "INFO:tensorflow:global_step/sec: 455.374\n",
      "INFO:tensorflow:loss = 186.29893, step = 12105 (0.218 sec)\n",
      "INFO:tensorflow:global_step/sec: 477.049\n",
      "INFO:tensorflow:loss = 180.681, step = 12205 (0.209 sec)\n",
      "INFO:tensorflow:global_step/sec: 434.369\n",
      "INFO:tensorflow:loss = 179.78403, step = 12305 (0.230 sec)\n",
      "INFO:tensorflow:global_step/sec: 447.688\n",
      "INFO:tensorflow:loss = 184.65704, step = 12405 (0.224 sec)\n",
      "INFO:tensorflow:Saving checkpoints for 12456 into ./model_trained/model.ckpt.\n",
      "INFO:tensorflow:Loss for final step: 105.08577.\n"
     ]
    },
    {
     "data": {
      "text/plain": [
       "<tensorflow.python.estimator.canned.linear.LinearRegressor at 0x126d5af98>"
      ]
     },
     "execution_count": 35,
     "metadata": {},
     "output_type": "execute_result"
    }
   ],
   "source": [
    "# train the model by passing the train & target dataframes\n",
    "model.train(pd_input_fn(train_x,train_y,100))"
   ]
  },
  {
   "cell_type": "code",
   "execution_count": 40,
   "metadata": {
    "ExecuteTime": {
     "end_time": "2018-04-01T00:45:36.329906Z",
     "start_time": "2018-04-01T00:45:36.325200Z"
    },
    "collapsed": true
   },
   "outputs": [],
   "source": [
    "# y_hat = predictions for the test set from the TF-LinearRegression Model\n",
    "y_hat = model.predict(test_input_fn(test_x,None))"
   ]
  },
  {
   "cell_type": "code",
   "execution_count": 41,
   "metadata": {
    "ExecuteTime": {
     "end_time": "2018-04-01T00:46:19.425667Z",
     "start_time": "2018-04-01T00:46:19.070128Z"
    }
   },
   "outputs": [
    {
     "name": "stdout",
     "output_type": "stream",
     "text": [
      "INFO:tensorflow:Calling model_fn.\n",
      "INFO:tensorflow:Done calling model_fn.\n",
      "INFO:tensorflow:Graph was finalized.\n",
      "INFO:tensorflow:Restoring parameters from ./model_trained/model.ckpt-12456\n",
      "INFO:tensorflow:Running local_init_op.\n",
      "INFO:tensorflow:Done running local_init_op.\n"
     ]
    }
   ],
   "source": [
    "# Extract the predictions from the Generator object y_hat\n",
    "p = [p['predictions'][0] for p in itertools.islice(y_hat,len(test_y))]"
   ]
  },
  {
   "cell_type": "code",
   "execution_count": 42,
   "metadata": {
    "ExecuteTime": {
     "end_time": "2018-04-01T00:47:07.619784Z",
     "start_time": "2018-04-01T00:47:07.613785Z"
    }
   },
   "outputs": [
    {
     "data": {
      "text/plain": [
       "1.2054232865280126"
      ]
     },
     "execution_count": 42,
     "metadata": {},
     "output_type": "execute_result"
    }
   ],
   "source": [
    "# Root mean square error on the test set for the prediction model\n",
    "np.sqrt(metrics.mean_squared_error(y_pred=p,y_true=test_y['imdb_score']))"
   ]
  },
  {
   "cell_type": "code",
   "execution_count": 43,
   "metadata": {
    "ExecuteTime": {
     "end_time": "2018-04-01T00:48:03.437933Z",
     "start_time": "2018-04-01T00:48:03.432799Z"
    }
   },
   "outputs": [
    {
     "data": {
      "text/plain": [
       "1.1932372017187955"
      ]
     },
     "execution_count": 43,
     "metadata": {},
     "output_type": "execute_result"
    }
   ],
   "source": [
    "# mean Absolute Error for the tensorflow linear regression model\n",
    "metrics.mean_absolute_error(p,test_y)"
   ]
  },
  {
   "cell_type": "markdown",
   "metadata": {},
   "source": [
    "## dnn regressor (Deep Neural Net)"
   ]
  },
  {
   "cell_type": "code",
   "execution_count": 44,
   "metadata": {
    "ExecuteTime": {
     "end_time": "2018-04-01T00:51:05.192183Z",
     "start_time": "2018-04-01T00:51:05.185800Z"
    }
   },
   "outputs": [
    {
     "name": "stdout",
     "output_type": "stream",
     "text": [
      "INFO:tensorflow:Using default config.\n",
      "INFO:tensorflow:Using config: {'_model_dir': './model_trained_dnn', '_tf_random_seed': None, '_save_summary_steps': 100, '_save_checkpoints_steps': None, '_save_checkpoints_secs': 600, '_session_config': None, '_keep_checkpoint_max': 5, '_keep_checkpoint_every_n_hours': 10000, '_log_step_count_steps': 100, '_service': None, '_cluster_spec': <tensorflow.python.training.server_lib.ClusterSpec object at 0x1275ddba8>, '_task_type': 'worker', '_task_id': 0, '_global_id_in_cluster': 0, '_master': '', '_evaluation_master': '', '_is_chief': True, '_num_ps_replicas': 0, '_num_worker_replicas': 1}\n"
     ]
    }
   ],
   "source": [
    "# Create a TensorFlow DNN Regressor\n",
    "regressor = tf.estimator.DNNRegressor(feature_columns=featcols,\n",
    "                                      hidden_units=[150,140,100,90,50,45,30,10,5,2],\n",
    "                                      model_dir='./model_trained_dnn')"
   ]
  },
  {
   "cell_type": "code",
   "execution_count": 45,
   "metadata": {
    "ExecuteTime": {
     "end_time": "2018-04-01T00:51:43.438043Z",
     "start_time": "2018-04-01T00:51:30.705613Z"
    }
   },
   "outputs": [
    {
     "name": "stdout",
     "output_type": "stream",
     "text": [
      "INFO:tensorflow:Calling model_fn.\n",
      "INFO:tensorflow:Done calling model_fn.\n",
      "INFO:tensorflow:Create CheckpointSaverHook.\n",
      "INFO:tensorflow:Graph was finalized.\n",
      "INFO:tensorflow:Running local_init_op.\n",
      "INFO:tensorflow:Done running local_init_op.\n",
      "INFO:tensorflow:Saving checkpoints for 1 into ./model_trained_dnn/model.ckpt.\n",
      "INFO:tensorflow:loss = 49.93292, step = 1\n",
      "INFO:tensorflow:global_step/sec: 243.29\n",
      "INFO:tensorflow:loss = 2.809509, step = 101 (0.412 sec)\n",
      "INFO:tensorflow:global_step/sec: 298.811\n",
      "INFO:tensorflow:loss = 3.9071941, step = 201 (0.335 sec)\n",
      "INFO:tensorflow:global_step/sec: 296.9\n",
      "INFO:tensorflow:loss = 2.4852052, step = 301 (0.337 sec)\n",
      "INFO:tensorflow:global_step/sec: 289.637\n",
      "INFO:tensorflow:loss = 2.5219283, step = 401 (0.345 sec)\n",
      "INFO:tensorflow:global_step/sec: 287.573\n",
      "INFO:tensorflow:loss = 2.9966216, step = 501 (0.348 sec)\n",
      "INFO:tensorflow:global_step/sec: 314.81\n",
      "INFO:tensorflow:loss = 2.696396, step = 601 (0.318 sec)\n",
      "INFO:tensorflow:global_step/sec: 261.202\n",
      "INFO:tensorflow:loss = 2.4587498, step = 701 (0.384 sec)\n",
      "INFO:tensorflow:global_step/sec: 271.381\n",
      "INFO:tensorflow:loss = 1.7233394, step = 801 (0.368 sec)\n",
      "INFO:tensorflow:global_step/sec: 258.748\n",
      "INFO:tensorflow:loss = 2.4203033, step = 901 (0.387 sec)\n",
      "INFO:tensorflow:global_step/sec: 275.425\n",
      "INFO:tensorflow:loss = 2.3911006, step = 1001 (0.363 sec)\n",
      "INFO:tensorflow:global_step/sec: 295.449\n",
      "INFO:tensorflow:loss = 2.2101383, step = 1101 (0.338 sec)\n",
      "INFO:tensorflow:global_step/sec: 216.029\n",
      "INFO:tensorflow:loss = 3.0011568, step = 1201 (0.463 sec)\n",
      "INFO:tensorflow:global_step/sec: 283.983\n",
      "INFO:tensorflow:loss = 3.0686069, step = 1301 (0.352 sec)\n",
      "INFO:tensorflow:global_step/sec: 282.689\n",
      "INFO:tensorflow:loss = 2.192492, step = 1401 (0.354 sec)\n",
      "INFO:tensorflow:global_step/sec: 283.362\n",
      "INFO:tensorflow:loss = 3.1586146, step = 1501 (0.353 sec)\n",
      "INFO:tensorflow:global_step/sec: 287.498\n",
      "INFO:tensorflow:loss = 2.188734, step = 1601 (0.348 sec)\n",
      "INFO:tensorflow:global_step/sec: 283.272\n",
      "INFO:tensorflow:loss = 2.9025364, step = 1701 (0.353 sec)\n",
      "INFO:tensorflow:global_step/sec: 303.314\n",
      "INFO:tensorflow:loss = 2.1104295, step = 1801 (0.330 sec)\n",
      "INFO:tensorflow:global_step/sec: 278.135\n",
      "INFO:tensorflow:loss = 2.3398461, step = 1901 (0.360 sec)\n",
      "INFO:tensorflow:global_step/sec: 307.065\n",
      "INFO:tensorflow:loss = 2.1864696, step = 2001 (0.326 sec)\n",
      "INFO:tensorflow:global_step/sec: 306.34\n",
      "INFO:tensorflow:loss = 1.9247342, step = 2101 (0.327 sec)\n",
      "INFO:tensorflow:global_step/sec: 229.553\n",
      "INFO:tensorflow:loss = 3.1376233, step = 2201 (0.436 sec)\n",
      "INFO:tensorflow:global_step/sec: 237.765\n",
      "INFO:tensorflow:loss = 2.6705499, step = 2301 (0.421 sec)\n",
      "INFO:tensorflow:global_step/sec: 274.903\n",
      "INFO:tensorflow:loss = 2.8657808, step = 2401 (0.363 sec)\n",
      "INFO:tensorflow:global_step/sec: 278.058\n",
      "INFO:tensorflow:loss = 3.088685, step = 2501 (0.361 sec)\n",
      "INFO:tensorflow:global_step/sec: 280.672\n",
      "INFO:tensorflow:loss = 1.9237506, step = 2601 (0.355 sec)\n",
      "INFO:tensorflow:global_step/sec: 284.944\n",
      "INFO:tensorflow:loss = 2.369604, step = 2701 (0.351 sec)\n",
      "INFO:tensorflow:global_step/sec: 287.079\n",
      "INFO:tensorflow:loss = 2.5334501, step = 2801 (0.348 sec)\n",
      "INFO:tensorflow:global_step/sec: 290.439\n",
      "INFO:tensorflow:loss = 2.977949, step = 2901 (0.345 sec)\n",
      "INFO:tensorflow:global_step/sec: 326.34\n",
      "INFO:tensorflow:loss = 1.9925351, step = 3001 (0.306 sec)\n",
      "INFO:tensorflow:global_step/sec: 291.049\n",
      "INFO:tensorflow:loss = 3.0963442, step = 3101 (0.343 sec)\n",
      "INFO:tensorflow:Saving checkpoints for 3152 into ./model_trained_dnn/model.ckpt.\n",
      "INFO:tensorflow:Loss for final step: 1.4350125.\n"
     ]
    },
    {
     "data": {
      "text/plain": [
       "<tensorflow.python.estimator.canned.dnn.DNNRegressor at 0x127716e10>"
      ]
     },
     "execution_count": 45,
     "metadata": {},
     "output_type": "execute_result"
    }
   ],
   "source": [
    "# Train the DNN classifier \n",
    "regressor.train(input_fn=pd_input_fn(train_x,train_y,100), steps=10000)"
   ]
  },
  {
   "cell_type": "code",
   "execution_count": 46,
   "metadata": {
    "ExecuteTime": {
     "end_time": "2018-04-01T00:52:10.330661Z",
     "start_time": "2018-04-01T00:52:07.781143Z"
    }
   },
   "outputs": [
    {
     "name": "stdout",
     "output_type": "stream",
     "text": [
      "INFO:tensorflow:Calling model_fn.\n",
      "INFO:tensorflow:Done calling model_fn.\n",
      "INFO:tensorflow:Starting evaluation at 2018-04-01-00:52:08\n",
      "INFO:tensorflow:Graph was finalized.\n",
      "INFO:tensorflow:Restoring parameters from ./model_trained_dnn/model.ckpt-3152\n",
      "INFO:tensorflow:Running local_init_op.\n",
      "INFO:tensorflow:Done running local_init_op.\n",
      "INFO:tensorflow:Finished evaluation at 2018-04-01-00:52:10\n",
      "INFO:tensorflow:Saving dict for global step 3152: average_loss = 0.02046477, global_step = 3152, loss = 2.6171043\n"
     ]
    },
    {
     "data": {
      "text/plain": [
       "{'average_loss': 0.02046477, 'global_step': 3152, 'loss': 2.6171043}"
      ]
     },
     "execution_count": 46,
     "metadata": {},
     "output_type": "execute_result"
    }
   ],
   "source": [
    "# Evaluate the model on test set\n",
    "regressor.evaluate(eval_input_fn(test_x,test_y,100))"
   ]
  },
  {
   "cell_type": "code",
   "execution_count": 47,
   "metadata": {
    "ExecuteTime": {
     "end_time": "2018-04-01T00:52:47.650261Z",
     "start_time": "2018-04-01T00:52:47.201932Z"
    }
   },
   "outputs": [
    {
     "name": "stdout",
     "output_type": "stream",
     "text": [
      "INFO:tensorflow:Calling model_fn.\n",
      "INFO:tensorflow:Done calling model_fn.\n",
      "INFO:tensorflow:Graph was finalized.\n",
      "INFO:tensorflow:Restoring parameters from ./model_trained_dnn/model.ckpt-3152\n",
      "INFO:tensorflow:Running local_init_op.\n",
      "INFO:tensorflow:Done running local_init_op.\n"
     ]
    }
   ],
   "source": [
    "# Get other evaluation metrics by getting the prediction on test set\n",
    "p = [p['predictions'][0] for p in itertools.islice(regressor.predict(test_input_fn(test_x)),len(test_y))]"
   ]
  },
  {
   "cell_type": "code",
   "execution_count": 48,
   "metadata": {
    "ExecuteTime": {
     "end_time": "2018-04-01T00:53:14.372368Z",
     "start_time": "2018-04-01T00:53:14.367345Z"
    }
   },
   "outputs": [
    {
     "data": {
      "text/plain": [
       "0.14305512106517762"
      ]
     },
     "execution_count": 48,
     "metadata": {},
     "output_type": "execute_result"
    }
   ],
   "source": [
    "# Root Mean Square Error on the test set\n",
    "np.sqrt(metrics.mean_squared_error(y_pred=p,y_true=test_y['imdb_score']))"
   ]
  },
  {
   "cell_type": "code",
   "execution_count": 49,
   "metadata": {
    "ExecuteTime": {
     "end_time": "2018-04-01T00:53:45.241757Z",
     "start_time": "2018-04-01T00:53:45.236704Z"
    }
   },
   "outputs": [
    {
     "data": {
      "text/plain": [
       "0.1127656910882207"
      ]
     },
     "execution_count": 49,
     "metadata": {},
     "output_type": "execute_result"
    }
   ],
   "source": [
    "# mean Absolute Error for the tensorflow DNN model\n",
    "metrics.mean_absolute_error(p,test_y)"
   ]
  }
 ],
 "metadata": {
  "kernelspec": {
   "display_name": "Python 3",
   "language": "python",
   "name": "python3"
  },
  "language_info": {
   "codemirror_mode": {
    "name": "ipython",
    "version": 3
   },
   "file_extension": ".py",
   "mimetype": "text/x-python",
   "name": "python",
   "nbconvert_exporter": "python",
   "pygments_lexer": "ipython3",
   "version": "3.6.1"
  }
 },
 "nbformat": 4,
 "nbformat_minor": 2
}
