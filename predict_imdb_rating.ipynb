{
 "cells": [
  {
   "cell_type": "code",
   "execution_count": 1,
   "metadata": {
    "ExecuteTime": {
     "end_time": "2018-04-01T16:37:40.983834Z",
     "start_time": "2018-04-01T16:37:40.174440Z"
    },
    "collapsed": true
   },
   "outputs": [],
   "source": [
    "import pandas as pd\n",
    "import numpy as np\n",
    "import itertools"
   ]
  },
  {
   "cell_type": "code",
   "execution_count": 2,
   "metadata": {
    "ExecuteTime": {
     "end_time": "2018-04-01T16:37:41.041293Z",
     "start_time": "2018-04-01T16:37:40.987224Z"
    },
    "collapsed": true
   },
   "outputs": [],
   "source": [
    "mov = pd.read_csv(\"movie_metadata.csv\")"
   ]
  },
  {
   "cell_type": "code",
   "execution_count": 3,
   "metadata": {
    "ExecuteTime": {
     "end_time": "2018-04-01T16:37:41.269798Z",
     "start_time": "2018-04-01T16:37:41.218149Z"
    }
   },
   "outputs": [
    {
     "data": {
      "text/html": [
       "<div>\n",
       "<style>\n",
       "    .dataframe thead tr:only-child th {\n",
       "        text-align: right;\n",
       "    }\n",
       "\n",
       "    .dataframe thead th {\n",
       "        text-align: left;\n",
       "    }\n",
       "\n",
       "    .dataframe tbody tr th {\n",
       "        vertical-align: top;\n",
       "    }\n",
       "</style>\n",
       "<table border=\"1\" class=\"dataframe\">\n",
       "  <thead>\n",
       "    <tr style=\"text-align: right;\">\n",
       "      <th></th>\n",
       "      <th>color</th>\n",
       "      <th>director_name</th>\n",
       "      <th>num_critic_for_reviews</th>\n",
       "      <th>duration</th>\n",
       "      <th>director_facebook_likes</th>\n",
       "      <th>actor_3_facebook_likes</th>\n",
       "      <th>actor_2_name</th>\n",
       "      <th>actor_1_facebook_likes</th>\n",
       "      <th>gross</th>\n",
       "      <th>genres</th>\n",
       "      <th>...</th>\n",
       "      <th>num_user_for_reviews</th>\n",
       "      <th>language</th>\n",
       "      <th>country</th>\n",
       "      <th>content_rating</th>\n",
       "      <th>budget</th>\n",
       "      <th>title_year</th>\n",
       "      <th>actor_2_facebook_likes</th>\n",
       "      <th>imdb_score</th>\n",
       "      <th>aspect_ratio</th>\n",
       "      <th>movie_facebook_likes</th>\n",
       "    </tr>\n",
       "  </thead>\n",
       "  <tbody>\n",
       "    <tr>\n",
       "      <th>0</th>\n",
       "      <td>Color</td>\n",
       "      <td>James Cameron</td>\n",
       "      <td>723.0</td>\n",
       "      <td>178.0</td>\n",
       "      <td>0.0</td>\n",
       "      <td>855.0</td>\n",
       "      <td>Joel David Moore</td>\n",
       "      <td>1000.0</td>\n",
       "      <td>760505847.0</td>\n",
       "      <td>Action|Adventure|Fantasy|Sci-Fi</td>\n",
       "      <td>...</td>\n",
       "      <td>3054.0</td>\n",
       "      <td>English</td>\n",
       "      <td>USA</td>\n",
       "      <td>PG-13</td>\n",
       "      <td>237000000.0</td>\n",
       "      <td>2009.0</td>\n",
       "      <td>936.0</td>\n",
       "      <td>7.9</td>\n",
       "      <td>1.78</td>\n",
       "      <td>33000</td>\n",
       "    </tr>\n",
       "    <tr>\n",
       "      <th>1</th>\n",
       "      <td>Color</td>\n",
       "      <td>Gore Verbinski</td>\n",
       "      <td>302.0</td>\n",
       "      <td>169.0</td>\n",
       "      <td>563.0</td>\n",
       "      <td>1000.0</td>\n",
       "      <td>Orlando Bloom</td>\n",
       "      <td>40000.0</td>\n",
       "      <td>309404152.0</td>\n",
       "      <td>Action|Adventure|Fantasy</td>\n",
       "      <td>...</td>\n",
       "      <td>1238.0</td>\n",
       "      <td>English</td>\n",
       "      <td>USA</td>\n",
       "      <td>PG-13</td>\n",
       "      <td>300000000.0</td>\n",
       "      <td>2007.0</td>\n",
       "      <td>5000.0</td>\n",
       "      <td>7.1</td>\n",
       "      <td>2.35</td>\n",
       "      <td>0</td>\n",
       "    </tr>\n",
       "    <tr>\n",
       "      <th>2</th>\n",
       "      <td>Color</td>\n",
       "      <td>Sam Mendes</td>\n",
       "      <td>602.0</td>\n",
       "      <td>148.0</td>\n",
       "      <td>0.0</td>\n",
       "      <td>161.0</td>\n",
       "      <td>Rory Kinnear</td>\n",
       "      <td>11000.0</td>\n",
       "      <td>200074175.0</td>\n",
       "      <td>Action|Adventure|Thriller</td>\n",
       "      <td>...</td>\n",
       "      <td>994.0</td>\n",
       "      <td>English</td>\n",
       "      <td>UK</td>\n",
       "      <td>PG-13</td>\n",
       "      <td>245000000.0</td>\n",
       "      <td>2015.0</td>\n",
       "      <td>393.0</td>\n",
       "      <td>6.8</td>\n",
       "      <td>2.35</td>\n",
       "      <td>85000</td>\n",
       "    </tr>\n",
       "    <tr>\n",
       "      <th>3</th>\n",
       "      <td>Color</td>\n",
       "      <td>Christopher Nolan</td>\n",
       "      <td>813.0</td>\n",
       "      <td>164.0</td>\n",
       "      <td>22000.0</td>\n",
       "      <td>23000.0</td>\n",
       "      <td>Christian Bale</td>\n",
       "      <td>27000.0</td>\n",
       "      <td>448130642.0</td>\n",
       "      <td>Action|Thriller</td>\n",
       "      <td>...</td>\n",
       "      <td>2701.0</td>\n",
       "      <td>English</td>\n",
       "      <td>USA</td>\n",
       "      <td>PG-13</td>\n",
       "      <td>250000000.0</td>\n",
       "      <td>2012.0</td>\n",
       "      <td>23000.0</td>\n",
       "      <td>8.5</td>\n",
       "      <td>2.35</td>\n",
       "      <td>164000</td>\n",
       "    </tr>\n",
       "    <tr>\n",
       "      <th>4</th>\n",
       "      <td>NaN</td>\n",
       "      <td>Doug Walker</td>\n",
       "      <td>NaN</td>\n",
       "      <td>NaN</td>\n",
       "      <td>131.0</td>\n",
       "      <td>NaN</td>\n",
       "      <td>Rob Walker</td>\n",
       "      <td>131.0</td>\n",
       "      <td>NaN</td>\n",
       "      <td>Documentary</td>\n",
       "      <td>...</td>\n",
       "      <td>NaN</td>\n",
       "      <td>NaN</td>\n",
       "      <td>NaN</td>\n",
       "      <td>NaN</td>\n",
       "      <td>NaN</td>\n",
       "      <td>NaN</td>\n",
       "      <td>12.0</td>\n",
       "      <td>7.1</td>\n",
       "      <td>NaN</td>\n",
       "      <td>0</td>\n",
       "    </tr>\n",
       "  </tbody>\n",
       "</table>\n",
       "<p>5 rows × 28 columns</p>\n",
       "</div>"
      ],
      "text/plain": [
       "   color      director_name  num_critic_for_reviews  duration  \\\n",
       "0  Color      James Cameron                   723.0     178.0   \n",
       "1  Color     Gore Verbinski                   302.0     169.0   \n",
       "2  Color         Sam Mendes                   602.0     148.0   \n",
       "3  Color  Christopher Nolan                   813.0     164.0   \n",
       "4    NaN        Doug Walker                     NaN       NaN   \n",
       "\n",
       "   director_facebook_likes  actor_3_facebook_likes      actor_2_name  \\\n",
       "0                      0.0                   855.0  Joel David Moore   \n",
       "1                    563.0                  1000.0     Orlando Bloom   \n",
       "2                      0.0                   161.0      Rory Kinnear   \n",
       "3                  22000.0                 23000.0    Christian Bale   \n",
       "4                    131.0                     NaN        Rob Walker   \n",
       "\n",
       "   actor_1_facebook_likes        gross                           genres  \\\n",
       "0                  1000.0  760505847.0  Action|Adventure|Fantasy|Sci-Fi   \n",
       "1                 40000.0  309404152.0         Action|Adventure|Fantasy   \n",
       "2                 11000.0  200074175.0        Action|Adventure|Thriller   \n",
       "3                 27000.0  448130642.0                  Action|Thriller   \n",
       "4                   131.0          NaN                      Documentary   \n",
       "\n",
       "          ...          num_user_for_reviews language  country  content_rating  \\\n",
       "0         ...                        3054.0  English      USA           PG-13   \n",
       "1         ...                        1238.0  English      USA           PG-13   \n",
       "2         ...                         994.0  English       UK           PG-13   \n",
       "3         ...                        2701.0  English      USA           PG-13   \n",
       "4         ...                           NaN      NaN      NaN             NaN   \n",
       "\n",
       "        budget  title_year actor_2_facebook_likes imdb_score  aspect_ratio  \\\n",
       "0  237000000.0      2009.0                  936.0        7.9          1.78   \n",
       "1  300000000.0      2007.0                 5000.0        7.1          2.35   \n",
       "2  245000000.0      2015.0                  393.0        6.8          2.35   \n",
       "3  250000000.0      2012.0                23000.0        8.5          2.35   \n",
       "4          NaN         NaN                   12.0        7.1           NaN   \n",
       "\n",
       "  movie_facebook_likes  \n",
       "0                33000  \n",
       "1                    0  \n",
       "2                85000  \n",
       "3               164000  \n",
       "4                    0  \n",
       "\n",
       "[5 rows x 28 columns]"
      ]
     },
     "execution_count": 3,
     "metadata": {},
     "output_type": "execute_result"
    }
   ],
   "source": [
    "mov.head()"
   ]
  },
  {
   "cell_type": "markdown",
   "metadata": {},
   "source": [
    "## Explore the dataset and fill null values"
   ]
  },
  {
   "cell_type": "code",
   "execution_count": 4,
   "metadata": {
    "ExecuteTime": {
     "end_time": "2018-04-01T16:37:50.942757Z",
     "start_time": "2018-04-01T16:37:50.938291Z"
    }
   },
   "outputs": [
    {
     "data": {
      "text/plain": [
       "(5043, 28)"
      ]
     },
     "execution_count": 4,
     "metadata": {},
     "output_type": "execute_result"
    }
   ],
   "source": [
    "mov.shape"
   ]
  },
  {
   "cell_type": "code",
   "execution_count": 5,
   "metadata": {
    "ExecuteTime": {
     "end_time": "2018-04-01T16:37:51.999169Z",
     "start_time": "2018-04-01T16:37:51.977628Z"
    }
   },
   "outputs": [
    {
     "data": {
      "text/plain": [
       "5043"
      ]
     },
     "execution_count": 5,
     "metadata": {},
     "output_type": "execute_result"
    }
   ],
   "source": [
    "#check if imdb score are between 1 & 10\n",
    "sum(mov.imdb_score.between(0,10,inclusive=True))"
   ]
  },
  {
   "cell_type": "code",
   "execution_count": 6,
   "metadata": {
    "ExecuteTime": {
     "end_time": "2018-04-01T16:37:52.980031Z",
     "start_time": "2018-04-01T16:37:52.965902Z"
    }
   },
   "outputs": [
    {
     "data": {
      "text/plain": [
       "gross                        884\n",
       "budget                       492\n",
       "aspect_ratio                 329\n",
       "content_rating               303\n",
       "plot_keywords                153\n",
       "title_year                   108\n",
       "director_name                104\n",
       "director_facebook_likes      104\n",
       "num_critic_for_reviews        50\n",
       "actor_3_name                  23\n",
       "actor_3_facebook_likes        23\n",
       "num_user_for_reviews          21\n",
       "color                         19\n",
       "duration                      15\n",
       "facenumber_in_poster          13\n",
       "actor_2_name                  13\n",
       "actor_2_facebook_likes        13\n",
       "language                      12\n",
       "actor_1_name                   7\n",
       "actor_1_facebook_likes         7\n",
       "country                        5\n",
       "movie_facebook_likes           0\n",
       "genres                         0\n",
       "movie_title                    0\n",
       "num_voted_users                0\n",
       "movie_imdb_link                0\n",
       "imdb_score                     0\n",
       "cast_total_facebook_likes      0\n",
       "dtype: int64"
      ]
     },
     "execution_count": 6,
     "metadata": {},
     "output_type": "execute_result"
    }
   ],
   "source": [
    "# Find out how many null values in the dataset\n",
    "mov.isnull().sum().sort_values(ascending=False)"
   ]
  },
  {
   "cell_type": "raw",
   "metadata": {
    "ExecuteTime": {
     "end_time": "2018-03-31T04:12:08.407877Z",
     "start_time": "2018-03-31T04:12:08.404427Z"
    },
    "collapsed": true
   },
   "source": [
    "### mov['color'].value_counts(dropna=False)"
   ]
  },
  {
   "cell_type": "code",
   "execution_count": 7,
   "metadata": {
    "ExecuteTime": {
     "end_time": "2018-04-01T16:37:57.267865Z",
     "start_time": "2018-04-01T16:37:57.262645Z"
    },
    "collapsed": true
   },
   "outputs": [],
   "source": [
    "def fill_with_mode(df,col_list=[]):\n",
    "    for col in df[col_list]:\n",
    "        mode = df[col].mode()[0]\n",
    "        df[col].fillna(mode,inplace=True)\n",
    "        \n",
    "def fill_with_mean(df,col_list=[]):\n",
    "    for col in df[col_list]:\n",
    "        mean = df[col].mean()\n",
    "        df[col].fillna(mean,inplace=True)"
   ]
  },
  {
   "cell_type": "code",
   "execution_count": 8,
   "metadata": {
    "ExecuteTime": {
     "end_time": "2018-04-01T16:37:57.785330Z",
     "start_time": "2018-04-01T16:37:57.782266Z"
    },
    "collapsed": true
   },
   "outputs": [],
   "source": [
    "mov_clean = mov"
   ]
  },
  {
   "cell_type": "code",
   "execution_count": 9,
   "metadata": {
    "ExecuteTime": {
     "end_time": "2018-04-01T16:37:58.352274Z",
     "start_time": "2018-04-01T16:37:58.334824Z"
    },
    "collapsed": true
   },
   "outputs": [],
   "source": [
    "# change title_year to years_old\n",
    "mov_clean['years_old'] = 2018 - mov_clean['title_year']\n",
    "\n",
    "#change plot_keywords to no_plot_keywords\n",
    "mov_clean['no_plot_keywords'] = mov_clean['plot_keywords'].apply(lambda x: len(x.split('|')) if type(x) == str else 0)\n",
    "\n",
    "# remove unncessary columns\n",
    "dropcol = ['title_year','plot_keywords']\n",
    "mov_clean = mov_clean.drop(dropcol,axis=1)"
   ]
  },
  {
   "cell_type": "code",
   "execution_count": 10,
   "metadata": {
    "ExecuteTime": {
     "end_time": "2018-04-01T16:37:59.014380Z",
     "start_time": "2018-04-01T16:37:58.998634Z"
    },
    "collapsed": true
   },
   "outputs": [],
   "source": [
    "fill_with_mean(mov_clean,['gross','budget','years_old'])\n",
    "fill_with_mode(mov_clean,['color','facenumber_in_poster', 'duration', 'aspect_ratio','content_rating'])"
   ]
  },
  {
   "cell_type": "code",
   "execution_count": 11,
   "metadata": {
    "ExecuteTime": {
     "end_time": "2018-04-01T16:37:59.634565Z",
     "start_time": "2018-04-01T16:37:59.630139Z"
    },
    "collapsed": true
   },
   "outputs": [],
   "source": [
    "# columns to fill with 0 or None\n",
    "fill_0 = ['actor_1_facebook_likes', 'actor_2_facebook_likes','actor_3_facebook_likes','num_user_for_reviews','director_facebook_likes','num_critic_for_reviews']\n",
    "fill_none = ['actor_1_name','actor_2_name','actor_3_name','director_name']"
   ]
  },
  {
   "cell_type": "code",
   "execution_count": 12,
   "metadata": {
    "ExecuteTime": {
     "end_time": "2018-04-01T16:38:00.134164Z",
     "start_time": "2018-04-01T16:38:00.123380Z"
    },
    "collapsed": true
   },
   "outputs": [],
   "source": [
    "# Fill the null values/NaN with 0 or 'None\n",
    "mov_clean[fill_0] = mov_clean[fill_0].fillna(0)\n",
    "mov_clean[fill_none] = mov_clean[fill_none].fillna('None')"
   ]
  },
  {
   "cell_type": "code",
   "execution_count": 14,
   "metadata": {
    "ExecuteTime": {
     "end_time": "2018-04-01T00:35:16.379041Z",
     "start_time": "2018-04-01T00:35:16.366772Z"
    }
   },
   "outputs": [
    {
     "data": {
      "text/plain": [
       "language                     12\n",
       "country                       5\n",
       "no_plot_keywords              0\n",
       "num_voted_users               0\n",
       "director_name                 0\n",
       "num_critic_for_reviews        0\n",
       "duration                      0\n",
       "director_facebook_likes       0\n",
       "actor_3_facebook_likes        0\n",
       "actor_2_name                  0\n",
       "actor_1_facebook_likes        0\n",
       "gross                         0\n",
       "genres                        0\n",
       "actor_1_name                  0\n",
       "movie_title                   0\n",
       "cast_total_facebook_likes     0\n",
       "years_old                     0\n",
       "actor_3_name                  0\n",
       "facenumber_in_poster          0\n",
       "movie_imdb_link               0\n",
       "num_user_for_reviews          0\n",
       "content_rating                0\n",
       "budget                        0\n",
       "actor_2_facebook_likes        0\n",
       "imdb_score                    0\n",
       "aspect_ratio                  0\n",
       "movie_facebook_likes          0\n",
       "color                         0\n",
       "dtype: int64"
      ]
     },
     "execution_count": 14,
     "metadata": {},
     "output_type": "execute_result"
    }
   ],
   "source": [
    "# Find out how many null values are left in the dataset\n",
    "mov_clean.isnull().sum().sort_values(ascending=False)"
   ]
  },
  {
   "cell_type": "markdown",
   "metadata": {
    "collapsed": true
   },
   "source": [
    "## Visualize"
   ]
  },
  {
   "cell_type": "code",
   "execution_count": 15,
   "metadata": {
    "ExecuteTime": {
     "end_time": "2018-04-01T00:35:21.904703Z",
     "start_time": "2018-04-01T00:35:21.410351Z"
    },
    "collapsed": true
   },
   "outputs": [],
   "source": [
    "import matplotlib.pyplot as plt\n",
    "%matplotlib inline\n",
    "import seaborn as sns"
   ]
  },
  {
   "cell_type": "code",
   "execution_count": 16,
   "metadata": {
    "ExecuteTime": {
     "end_time": "2018-04-01T00:35:23.838691Z",
     "start_time": "2018-04-01T00:35:23.600258Z"
    }
   },
   "outputs": [
    {
     "data": {
      "text/plain": [
       "<matplotlib.axes._subplots.AxesSubplot at 0x117213f28>"
      ]
     },
     "execution_count": 16,
     "metadata": {},
     "output_type": "execute_result"
    },
    {
     "data": {
      "image/png": "[encoded data removed]",
      "text/plain": [
       "<matplotlib.figure.Figure at 0x11720ba58>"
      ]
     },
     "metadata": {},
     "output_type": "display_data"
    }
   ],
   "source": [
    "# Distribution of the target variable 'imdb_score'\n",
    "sns.distplot((mov_clean[['imdb_score']]))"
   ]
  },
  {
   "cell_type": "code",
   "execution_count": 17,
   "metadata": {
    "ExecuteTime": {
     "end_time": "2018-04-01T00:35:26.534291Z",
     "start_time": "2018-04-01T00:35:26.145115Z"
    }
   },
   "outputs": [
    {
     "data": {
      "text/plain": [
       "<matplotlib.axes._subplots.AxesSubplot at 0x117365d68>"
      ]
     },
     "execution_count": 17,
     "metadata": {},
     "output_type": "execute_result"
    },
    {
     "data": {
      "image/png": "[encoded data removed]",
      "text/plain": [
       "<matplotlib.figure.Figure at 0x10d68d4e0>"
      ]
     },
     "metadata": {},
     "output_type": "display_data"
    }
   ],
   "source": [
    "sns.heatmap(mov_clean.corr())"
   ]
  },
  {
   "cell_type": "raw",
   "metadata": {},
   "source": [
    "##'director_name','actor_1_name','actor_2_name','actor_3_name'"
   ]
  },
  {
   "cell_type": "raw",
   "metadata": {
    "ExecuteTime": {
     "end_time": "2018-03-30T17:28:03.867103Z",
     "start_time": "2018-03-30T17:28:03.860741Z"
    }
   },
   "source": [
    "# removing columns which wouldn't be important for prediction imdb_score\n",
    "# country because majority is from USA(3900), language - 4700 in english\n",
    "dropcol = ['country','language','movie_imdb_link', 'movie_title']\n",
    "mov_clean = mov_clean.drop(dropcol,axis=1)"
   ]
  },
  {
   "cell_type": "code",
   "execution_count": 13,
   "metadata": {
    "ExecuteTime": {
     "end_time": "2018-04-01T16:38:20.378653Z",
     "start_time": "2018-04-01T16:38:20.372465Z"
    },
    "collapsed": true
   },
   "outputs": [],
   "source": [
    "# select fewer usable columns by looking at the heatmap with correlations\n",
    "mov_clean_sel = mov_clean[['num_critic_for_reviews', 'duration', 'director_facebook_likes',\n",
    "       'actor_1_facebook_likes', 'actor_2_facebook_likes', 'actor_3_facebook_likes', \n",
    "       'num_voted_users', 'facenumber_in_poster', 'no_plot_keywords',   \n",
    "       'aspect_ratio', 'years_old', 'budget', 'imdb_score']]"
   ]
  },
  {
   "cell_type": "code",
   "execution_count": 14,
   "metadata": {
    "ExecuteTime": {
     "end_time": "2018-04-01T16:38:21.690673Z",
     "start_time": "2018-04-01T16:38:21.103578Z"
    },
    "collapsed": true
   },
   "outputs": [],
   "source": [
    "# Min-Max Scaling on features & target variable\n",
    "from sklearn import preprocessing\n",
    "\n",
    "minmax_scale = preprocessing.MinMaxScaler()\n",
    "cols = mov_clean_sel.columns\n",
    "mov_clean_sel = pd.DataFrame(minmax_scale.fit_transform(mov_clean_sel),columns=cols)"
   ]
  },
  {
   "cell_type": "code",
   "execution_count": 15,
   "metadata": {
    "ExecuteTime": {
     "end_time": "2018-04-01T16:38:21.707215Z",
     "start_time": "2018-04-01T16:38:21.696766Z"
    },
    "collapsed": true
   },
   "outputs": [],
   "source": [
    "# divide to train & test sets\n",
    "train = mov_clean_sel.sample(frac=0.8,random_state=200)\n",
    "train_y, train_x = train[['imdb_score']], train.drop(['imdb_score'],axis=1)\n",
    "\n",
    "test = mov_clean_sel.drop(train.index)\n",
    "test_y, test_x = test[['imdb_score']], test.drop(['imdb_score'],axis=1)"
   ]
  },
  {
   "cell_type": "code",
   "execution_count": 42,
   "metadata": {
    "ExecuteTime": {
     "end_time": "2018-03-31T14:58:09.859440Z",
     "start_time": "2018-03-31T14:58:09.712640Z"
    },
    "collapsed": true
   },
   "outputs": [],
   "source": [
    "#set(mov_clean['genres'].apply(lambda x: x.split('|')).sum())"
   ]
  },
  {
   "cell_type": "code",
   "execution_count": 21,
   "metadata": {
    "ExecuteTime": {
     "end_time": "2018-04-01T00:36:47.296725Z",
     "start_time": "2018-04-01T00:36:47.290571Z"
    },
    "collapsed": true
   },
   "outputs": [],
   "source": [
    "mov_clean['content_rating'].value_counts(dropna=False);"
   ]
  },
  {
   "cell_type": "code",
   "execution_count": 375,
   "metadata": {
    "ExecuteTime": {
     "end_time": "2018-04-01T00:33:14.606760Z",
     "start_time": "2018-04-01T00:33:14.598912Z"
    },
    "collapsed": true
   },
   "outputs": [],
   "source": [
    "mov_clean.loc[mov_clean['content_rating'].isnull(),['movie_title']];"
   ]
  },
  {
   "cell_type": "code",
   "execution_count": 132,
   "metadata": {
    "ExecuteTime": {
     "end_time": "2018-03-31T04:48:51.227756Z",
     "start_time": "2018-03-31T04:48:51.221698Z"
    }
   },
   "outputs": [
    {
     "data": {
      "text/plain": [
       "303"
      ]
     },
     "execution_count": 132,
     "metadata": {},
     "output_type": "execute_result"
    }
   ],
   "source": [
    "mov_clean['content_rating'].isnull().sum()"
   ]
  },
  {
   "cell_type": "markdown",
   "metadata": {
    "heading_collapsed": true
   },
   "source": [
    "## Sci-kit learn Models"
   ]
  },
  {
   "cell_type": "code",
   "execution_count": 22,
   "metadata": {
    "ExecuteTime": {
     "end_time": "2018-04-01T00:37:21.533537Z",
     "start_time": "2018-04-01T00:37:21.471301Z"
    },
    "hidden": true
   },
   "outputs": [
    {
     "data": {
      "text/plain": [
       "LinearRegression(copy_X=True, fit_intercept=True, n_jobs=1, normalize=False)"
      ]
     },
     "execution_count": 22,
     "metadata": {},
     "output_type": "execute_result"
    }
   ],
   "source": [
    "# import model\n",
    "from sklearn.linear_model import LinearRegression\n",
    "\n",
    "# instantiate\n",
    "linreg = LinearRegression()\n",
    "\n",
    "# fit the model to the training data (learn the coefficients)\n",
    "linreg.fit(train_x, train_y)"
   ]
  },
  {
   "cell_type": "code",
   "execution_count": 37,
   "metadata": {
    "ExecuteTime": {
     "end_time": "2018-04-01T00:43:39.973943Z",
     "start_time": "2018-04-01T00:43:39.970650Z"
    },
    "collapsed": true,
    "hidden": true
   },
   "outputs": [],
   "source": [
    "# y_hat = the predictions for the test set\n",
    "y_hat = linreg.predict(test_x)"
   ]
  },
  {
   "cell_type": "code",
   "execution_count": 25,
   "metadata": {
    "ExecuteTime": {
     "end_time": "2018-04-01T16:39:17.968667Z",
     "start_time": "2018-04-01T16:39:17.945870Z"
    },
    "collapsed": true,
    "hidden": true
   },
   "outputs": [],
   "source": [
    "from sklearn import metrics"
   ]
  },
  {
   "cell_type": "code",
   "execution_count": 38,
   "metadata": {
    "ExecuteTime": {
     "end_time": "2018-04-01T00:44:30.285456Z",
     "start_time": "2018-04-01T00:44:30.279781Z"
    },
    "hidden": true
   },
   "outputs": [
    {
     "data": {
      "text/plain": [
       "0.12459109898812218"
      ]
     },
     "execution_count": 38,
     "metadata": {},
     "output_type": "execute_result"
    }
   ],
   "source": [
    "# Root Mean Square error for the sklearn liner regression model\n",
    "np.sqrt(metrics.mean_squared_error(y_pred=y_hat,y_true=test_y))"
   ]
  },
  {
   "cell_type": "code",
   "execution_count": 39,
   "metadata": {
    "ExecuteTime": {
     "end_time": "2018-04-01T00:44:51.154382Z",
     "start_time": "2018-04-01T00:44:51.149237Z"
    },
    "hidden": true
   },
   "outputs": [
    {
     "data": {
      "text/plain": [
       "0.09501139962989615"
      ]
     },
     "execution_count": 39,
     "metadata": {},
     "output_type": "execute_result"
    }
   ],
   "source": [
    "# mean Absolute Error for the sklearn linear regression model\n",
    "metrics.mean_absolute_error(y_hat,test_y)"
   ]
  },
  {
   "cell_type": "markdown",
   "metadata": {
    "heading_collapsed": true
   },
   "source": [
    "## Tensorflow - Linear Regression Model"
   ]
  },
  {
   "cell_type": "code",
   "execution_count": 16,
   "metadata": {
    "ExecuteTime": {
     "end_time": "2018-04-01T16:38:38.737108Z",
     "start_time": "2018-04-01T16:38:37.013423Z"
    },
    "hidden": true
   },
   "outputs": [
    {
     "name": "stderr",
     "output_type": "stream",
     "text": [
      "/Users/bharatvem/anaconda/lib/python3.6/site-packages/h5py/__init__.py:36: FutureWarning: Conversion of the second argument of issubdtype from `float` to `np.floating` is deprecated. In future, it will be treated as `np.float64 == np.dtype(float).type`.\n",
      "  from ._conv import register_converters as _register_converters\n"
     ]
    }
   ],
   "source": [
    "import tensorflow as tf"
   ]
  },
  {
   "cell_type": "code",
   "execution_count": 17,
   "metadata": {
    "ExecuteTime": {
     "end_time": "2018-04-01T16:38:41.161064Z",
     "start_time": "2018-04-01T16:38:41.157856Z"
    },
    "collapsed": true,
    "hidden": true
   },
   "outputs": [],
   "source": [
    "FEATURES = ['num_critic_for_reviews', 'duration', 'director_facebook_likes',\n",
    "       'actor_1_facebook_likes', 'actor_2_facebook_likes',\n",
    "       'actor_3_facebook_likes', 'num_voted_users', 'facenumber_in_poster',\n",
    "       'no_plot_keywords', 'aspect_ratio', 'years_old', 'budget']"
   ]
  },
  {
   "cell_type": "code",
   "execution_count": 18,
   "metadata": {
    "ExecuteTime": {
     "end_time": "2018-04-01T16:38:42.327699Z",
     "start_time": "2018-04-01T16:38:42.319091Z"
    },
    "collapsed": true,
    "hidden": true
   },
   "outputs": [],
   "source": [
    "def pd_input_fn(x,y, num_epochs=None):  # a Pandas dataframe\n",
    "  return tf.estimator.inputs.pandas_input_fn(\n",
    "    x = pd.DataFrame({k: x[k].values for k in FEATURES}),\n",
    "    y = pd.Series(y['imdb_score'].values),\n",
    "    num_epochs=num_epochs,\n",
    "    shuffle=False)\n",
    "\n",
    "def eval_input_fn(x,y, num_epochs=None):  # a Pandas dataframe\n",
    "  return tf.estimator.inputs.pandas_input_fn(\n",
    "    x = pd.DataFrame({k: x[k].values for k in FEATURES}),\n",
    "    y = pd.Series(y['imdb_score'].values),\n",
    "    num_epochs=num_epochs,\n",
    "    shuffle=False)\n",
    "\n",
    "def test_input_fn(x, num_epochs=None):  # a Pandas dataframe\n",
    "  return tf.estimator.inputs.pandas_input_fn(\n",
    "    x = pd.DataFrame({k: x[k].values for k in FEATURES}),\n",
    "    y = None,\n",
    "    num_epochs=num_epochs,\n",
    "    shuffle=False)"
   ]
  },
  {
   "cell_type": "code",
   "execution_count": 19,
   "metadata": {
    "ExecuteTime": {
     "end_time": "2018-04-01T16:38:44.479816Z",
     "start_time": "2018-04-01T16:38:44.472556Z"
    },
    "collapsed": true,
    "hidden": true
   },
   "outputs": [],
   "source": [
    "# define the type of columns that are sent in the input **for the Regression model**\n",
    "featcols = [tf.feature_column.numeric_column(\"num_critic_for_reviews\"),\n",
    "    tf.feature_column.numeric_column(\"duration\"),\n",
    "    tf.feature_column.numeric_column(\"director_facebook_likes\"),\n",
    "    tf.feature_column.numeric_column(\"actor_1_facebook_likes\"),\n",
    "    tf.feature_column.numeric_column(\"actor_2_facebook_likes\"),\n",
    "    tf.feature_column.numeric_column(\"actor_3_facebook_likes\"),\n",
    "    tf.feature_column.numeric_column(\"num_voted_users\"),\n",
    "    tf.feature_column.numeric_column(\"facenumber_in_poster\"),\n",
    "    tf.feature_column.numeric_column(\"no_plot_keywords\"),\n",
    "    tf.feature_column.numeric_column(\"aspect_ratio\"),\n",
    "    tf.feature_column.numeric_column(\"years_old\"),\n",
    "    tf.feature_column.numeric_column(\"budget\")\n",
    "]"
   ]
  },
  {
   "cell_type": "code",
   "execution_count": 20,
   "metadata": {
    "ExecuteTime": {
     "end_time": "2018-04-01T16:38:45.129623Z",
     "start_time": "2018-04-01T16:38:45.122828Z"
    },
    "hidden": true
   },
   "outputs": [
    {
     "name": "stdout",
     "output_type": "stream",
     "text": [
      "INFO:tensorflow:Using default config.\n",
      "INFO:tensorflow:Using config: {'_model_dir': './model_trained', '_tf_random_seed': None, '_save_summary_steps': 100, '_save_checkpoints_steps': None, '_save_checkpoints_secs': 600, '_session_config': None, '_keep_checkpoint_max': 5, '_keep_checkpoint_every_n_hours': 10000, '_log_step_count_steps': 100, '_service': None, '_cluster_spec': <tensorflow.python.training.server_lib.ClusterSpec object at 0x12fe3ed68>, '_task_type': 'worker', '_task_id': 0, '_global_id_in_cluster': 0, '_master': '', '_evaluation_master': '', '_is_chief': True, '_num_ps_replicas': 0, '_num_worker_replicas': 1}\n"
     ]
    }
   ],
   "source": [
    "# create a LinearRegression model\n",
    "model = tf.estimator.LinearRegressor(featcols,'./model_trained')"
   ]
  },
  {
   "cell_type": "code",
   "execution_count": 32,
   "metadata": {
    "ExecuteTime": {
     "end_time": "2018-04-01T16:47:01.849581Z",
     "start_time": "2018-04-01T16:45:47.773731Z"
    },
    "hidden": true
   },
   "outputs": [
    {
     "name": "stdout",
     "output_type": "stream",
     "text": [
      "INFO:tensorflow:Calling model_fn.\n",
      "INFO:tensorflow:Done calling model_fn.\n",
      "INFO:tensorflow:Create CheckpointSaverHook.\n",
      "INFO:tensorflow:Graph was finalized.\n",
      "INFO:tensorflow:Restoring parameters from ./model_trained/model.ckpt-3152\n",
      "INFO:tensorflow:Running local_init_op.\n",
      "INFO:tensorflow:Done running local_init_op.\n",
      "INFO:tensorflow:Saving checkpoints for 3153 into ./model_trained/model.ckpt.\n",
      "INFO:tensorflow:loss = 2.1589317, step = 3153\n",
      "INFO:tensorflow:global_step/sec: 325.001\n",
      "INFO:tensorflow:loss = 2.0655594, step = 3253 (0.310 sec)\n",
      "INFO:tensorflow:global_step/sec: 388.276\n",
      "INFO:tensorflow:loss = 2.9037213, step = 3353 (0.258 sec)\n",
      "INFO:tensorflow:global_step/sec: 428.387\n",
      "INFO:tensorflow:loss = 2.0833251, step = 3453 (0.233 sec)\n",
      "INFO:tensorflow:global_step/sec: 391.853\n",
      "INFO:tensorflow:loss = 1.860944, step = 3553 (0.255 sec)\n",
      "INFO:tensorflow:global_step/sec: 410.941\n",
      "INFO:tensorflow:loss = 1.9394475, step = 3653 (0.243 sec)\n",
      "INFO:tensorflow:global_step/sec: 412.511\n",
      "INFO:tensorflow:loss = 2.0666838, step = 3753 (0.242 sec)\n",
      "INFO:tensorflow:global_step/sec: 441.845\n",
      "INFO:tensorflow:loss = 1.7711169, step = 3853 (0.227 sec)\n",
      "INFO:tensorflow:global_step/sec: 424.659\n",
      "INFO:tensorflow:loss = 1.3544021, step = 3953 (0.235 sec)\n",
      "INFO:tensorflow:global_step/sec: 452.444\n",
      "INFO:tensorflow:loss = 2.0519285, step = 4053 (0.222 sec)\n",
      "INFO:tensorflow:global_step/sec: 440.141\n",
      "INFO:tensorflow:loss = 2.2119992, step = 4153 (0.227 sec)\n",
      "INFO:tensorflow:global_step/sec: 448.456\n",
      "INFO:tensorflow:loss = 1.6551019, step = 4253 (0.222 sec)\n",
      "INFO:tensorflow:global_step/sec: 438.506\n",
      "INFO:tensorflow:loss = 2.226231, step = 4353 (0.229 sec)\n",
      "INFO:tensorflow:global_step/sec: 448.434\n",
      "INFO:tensorflow:loss = 1.9529033, step = 4453 (0.222 sec)\n",
      "INFO:tensorflow:global_step/sec: 434.893\n",
      "INFO:tensorflow:loss = 1.8623345, step = 4553 (0.231 sec)\n",
      "INFO:tensorflow:global_step/sec: 364.45\n",
      "INFO:tensorflow:loss = 2.2931957, step = 4653 (0.273 sec)\n",
      "INFO:tensorflow:global_step/sec: 386.032\n",
      "INFO:tensorflow:loss = 1.5723021, step = 4753 (0.260 sec)\n",
      "INFO:tensorflow:global_step/sec: 446.498\n",
      "INFO:tensorflow:loss = 2.2189467, step = 4853 (0.224 sec)\n",
      "INFO:tensorflow:global_step/sec: 457.775\n",
      "INFO:tensorflow:loss = 1.3005662, step = 4953 (0.217 sec)\n",
      "INFO:tensorflow:global_step/sec: 467.196\n",
      "INFO:tensorflow:loss = 1.6917531, step = 5053 (0.215 sec)\n",
      "INFO:tensorflow:global_step/sec: 471.294\n",
      "INFO:tensorflow:loss = 1.5442712, step = 5153 (0.212 sec)\n",
      "INFO:tensorflow:global_step/sec: 439.345\n",
      "INFO:tensorflow:loss = 1.3751905, step = 5253 (0.228 sec)\n",
      "INFO:tensorflow:global_step/sec: 465.112\n",
      "INFO:tensorflow:loss = 2.1363919, step = 5353 (0.215 sec)\n",
      "INFO:tensorflow:global_step/sec: 419.93\n",
      "INFO:tensorflow:loss = 1.7655921, step = 5453 (0.238 sec)\n",
      "INFO:tensorflow:global_step/sec: 450.047\n",
      "INFO:tensorflow:loss = 2.0116785, step = 5553 (0.222 sec)\n",
      "INFO:tensorflow:global_step/sec: 463.656\n",
      "INFO:tensorflow:loss = 2.4246836, step = 5653 (0.216 sec)\n",
      "INFO:tensorflow:global_step/sec: 414.489\n",
      "INFO:tensorflow:loss = 1.5246706, step = 5753 (0.241 sec)\n",
      "INFO:tensorflow:global_step/sec: 463.074\n",
      "INFO:tensorflow:loss = 1.953578, step = 5853 (0.216 sec)\n",
      "INFO:tensorflow:global_step/sec: 457.059\n",
      "INFO:tensorflow:loss = 1.7516162, step = 5953 (0.219 sec)\n",
      "INFO:tensorflow:global_step/sec: 468.191\n",
      "INFO:tensorflow:loss = 2.171208, step = 6053 (0.214 sec)\n",
      "INFO:tensorflow:global_step/sec: 461.903\n",
      "INFO:tensorflow:loss = 1.3943105, step = 6153 (0.217 sec)\n",
      "INFO:tensorflow:global_step/sec: 462.902\n",
      "INFO:tensorflow:loss = 2.3206425, step = 6253 (0.216 sec)\n",
      "INFO:tensorflow:global_step/sec: 449.966\n",
      "INFO:tensorflow:loss = 2.3759801, step = 6353 (0.221 sec)\n",
      "INFO:tensorflow:global_step/sec: 425.739\n",
      "INFO:tensorflow:loss = 1.7597675, step = 6453 (0.236 sec)\n",
      "INFO:tensorflow:global_step/sec: 426.24\n",
      "INFO:tensorflow:loss = 1.827014, step = 6553 (0.235 sec)\n",
      "INFO:tensorflow:global_step/sec: 444.661\n",
      "INFO:tensorflow:loss = 2.55997, step = 6653 (0.225 sec)\n",
      "INFO:tensorflow:global_step/sec: 463.16\n",
      "INFO:tensorflow:loss = 1.9154778, step = 6753 (0.214 sec)\n",
      "INFO:tensorflow:global_step/sec: 463.049\n",
      "INFO:tensorflow:loss = 1.6010599, step = 6853 (0.217 sec)\n",
      "INFO:tensorflow:global_step/sec: 437.405\n",
      "INFO:tensorflow:loss = 2.1286085, step = 6953 (0.229 sec)\n",
      "INFO:tensorflow:global_step/sec: 443.713\n",
      "INFO:tensorflow:loss = 2.3045392, step = 7053 (0.226 sec)\n",
      "INFO:tensorflow:global_step/sec: 458.916\n",
      "INFO:tensorflow:loss = 1.9551103, step = 7153 (0.217 sec)\n",
      "INFO:tensorflow:global_step/sec: 464.598\n",
      "INFO:tensorflow:loss = 1.7879117, step = 7253 (0.214 sec)\n",
      "INFO:tensorflow:global_step/sec: 450.517\n",
      "INFO:tensorflow:loss = 1.5662661, step = 7353 (0.223 sec)\n",
      "INFO:tensorflow:global_step/sec: 437.732\n",
      "INFO:tensorflow:loss = 1.7954288, step = 7453 (0.228 sec)\n",
      "INFO:tensorflow:global_step/sec: 462.875\n",
      "INFO:tensorflow:loss = 2.1283429, step = 7553 (0.216 sec)\n",
      "INFO:tensorflow:global_step/sec: 461.355\n",
      "INFO:tensorflow:loss = 1.9937563, step = 7653 (0.216 sec)\n",
      "INFO:tensorflow:global_step/sec: 465.736\n",
      "INFO:tensorflow:loss = 2.0813947, step = 7753 (0.216 sec)\n",
      "INFO:tensorflow:global_step/sec: 450.662\n",
      "INFO:tensorflow:loss = 1.8636647, step = 7853 (0.222 sec)\n",
      "INFO:tensorflow:global_step/sec: 435.504\n",
      "INFO:tensorflow:loss = 2.2816133, step = 7953 (0.230 sec)\n",
      "INFO:tensorflow:global_step/sec: 429.963\n",
      "INFO:tensorflow:loss = 1.7579895, step = 8053 (0.233 sec)\n",
      "INFO:tensorflow:global_step/sec: 428.772\n",
      "INFO:tensorflow:loss = 1.781817, step = 8153 (0.233 sec)\n",
      "INFO:tensorflow:global_step/sec: 424.962\n",
      "INFO:tensorflow:loss = 1.8056815, step = 8253 (0.235 sec)\n",
      "INFO:tensorflow:global_step/sec: 449.17\n",
      "INFO:tensorflow:loss = 1.9557817, step = 8353 (0.223 sec)\n",
      "INFO:tensorflow:global_step/sec: 428.881\n",
      "INFO:tensorflow:loss = 2.1179237, step = 8453 (0.233 sec)\n",
      "INFO:tensorflow:global_step/sec: 403.69\n",
      "INFO:tensorflow:loss = 2.9197702, step = 8553 (0.248 sec)\n",
      "INFO:tensorflow:global_step/sec: 416.275\n",
      "INFO:tensorflow:loss = 1.9771128, step = 8653 (0.239 sec)\n",
      "INFO:tensorflow:global_step/sec: 429.253\n",
      "INFO:tensorflow:loss = 1.760456, step = 8753 (0.234 sec)\n",
      "INFO:tensorflow:global_step/sec: 411.55\n",
      "INFO:tensorflow:loss = 1.925921, step = 8853 (0.243 sec)\n",
      "INFO:tensorflow:global_step/sec: 437.319\n",
      "INFO:tensorflow:loss = 2.1467652, step = 8953 (0.228 sec)\n",
      "INFO:tensorflow:global_step/sec: 444.258\n",
      "INFO:tensorflow:loss = 1.8471446, step = 9053 (0.224 sec)\n",
      "INFO:tensorflow:global_step/sec: 449.442\n",
      "INFO:tensorflow:loss = 1.4375343, step = 9153 (0.223 sec)\n",
      "INFO:tensorflow:global_step/sec: 450.227\n",
      "INFO:tensorflow:loss = 1.9947062, step = 9253 (0.222 sec)\n",
      "INFO:tensorflow:global_step/sec: 369.313\n",
      "INFO:tensorflow:loss = 2.065685, step = 9353 (0.270 sec)\n",
      "INFO:tensorflow:global_step/sec: 454.361\n",
      "INFO:tensorflow:loss = 1.6387281, step = 9453 (0.221 sec)\n",
      "INFO:tensorflow:global_step/sec: 456.268\n",
      "INFO:tensorflow:loss = 2.1872582, step = 9553 (0.219 sec)\n",
      "INFO:tensorflow:global_step/sec: 450.412\n",
      "INFO:tensorflow:loss = 1.930816, step = 9653 (0.222 sec)\n",
      "INFO:tensorflow:global_step/sec: 397.901\n",
      "INFO:tensorflow:loss = 1.9166806, step = 9753 (0.251 sec)\n",
      "INFO:tensorflow:global_step/sec: 476.286\n",
      "INFO:tensorflow:loss = 2.5647912, step = 9853 (0.210 sec)\n",
      "INFO:tensorflow:global_step/sec: 474.886\n",
      "INFO:tensorflow:loss = 1.463727, step = 9953 (0.210 sec)\n",
      "INFO:tensorflow:global_step/sec: 409.385\n",
      "INFO:tensorflow:loss = 2.091427, step = 10053 (0.243 sec)\n",
      "INFO:tensorflow:global_step/sec: 444.037\n",
      "INFO:tensorflow:loss = 1.362468, step = 10153 (0.226 sec)\n",
      "INFO:tensorflow:global_step/sec: 400.022\n",
      "INFO:tensorflow:loss = 1.5956056, step = 10253 (0.250 sec)\n",
      "INFO:tensorflow:global_step/sec: 415.398\n",
      "INFO:tensorflow:loss = 1.5210176, step = 10353 (0.241 sec)\n",
      "INFO:tensorflow:global_step/sec: 435.278\n",
      "INFO:tensorflow:loss = 1.3192298, step = 10453 (0.230 sec)\n",
      "INFO:tensorflow:global_step/sec: 437.056\n",
      "INFO:tensorflow:loss = 2.1007671, step = 10553 (0.229 sec)\n",
      "INFO:tensorflow:global_step/sec: 409.571\n",
      "INFO:tensorflow:loss = 1.7516732, step = 10653 (0.245 sec)\n",
      "INFO:tensorflow:global_step/sec: 417.314\n",
      "INFO:tensorflow:loss = 2.161492, step = 10753 (0.239 sec)\n",
      "INFO:tensorflow:global_step/sec: 439.686\n",
      "INFO:tensorflow:loss = 2.1846826, step = 10853 (0.228 sec)\n",
      "INFO:tensorflow:global_step/sec: 361.974\n",
      "INFO:tensorflow:loss = 1.5817875, step = 10953 (0.275 sec)\n",
      "INFO:tensorflow:global_step/sec: 396.588\n",
      "INFO:tensorflow:loss = 1.8847938, step = 11053 (0.253 sec)\n"
     ]
    },
    {
     "name": "stdout",
     "output_type": "stream",
     "text": [
      "INFO:tensorflow:global_step/sec: 432.079\n",
      "INFO:tensorflow:loss = 1.7017865, step = 11153 (0.231 sec)\n",
      "INFO:tensorflow:global_step/sec: 418.503\n",
      "INFO:tensorflow:loss = 2.1602125, step = 11253 (0.239 sec)\n",
      "INFO:tensorflow:global_step/sec: 459.614\n",
      "INFO:tensorflow:loss = 1.391171, step = 11353 (0.218 sec)\n",
      "INFO:tensorflow:global_step/sec: 445.97\n",
      "INFO:tensorflow:loss = 2.3083754, step = 11453 (0.223 sec)\n",
      "INFO:tensorflow:global_step/sec: 471.4\n",
      "INFO:tensorflow:loss = 2.4256525, step = 11553 (0.213 sec)\n",
      "INFO:tensorflow:global_step/sec: 469.556\n",
      "INFO:tensorflow:loss = 1.7934375, step = 11653 (0.213 sec)\n",
      "INFO:tensorflow:global_step/sec: 481.724\n",
      "INFO:tensorflow:loss = 1.7934294, step = 11753 (0.207 sec)\n",
      "INFO:tensorflow:global_step/sec: 466.761\n",
      "INFO:tensorflow:loss = 2.8563843, step = 11853 (0.215 sec)\n",
      "INFO:tensorflow:global_step/sec: 467.924\n",
      "INFO:tensorflow:loss = 1.9354625, step = 11953 (0.213 sec)\n",
      "INFO:tensorflow:global_step/sec: 472.597\n",
      "INFO:tensorflow:loss = 1.5556871, step = 12053 (0.211 sec)\n",
      "INFO:tensorflow:global_step/sec: 425.295\n",
      "INFO:tensorflow:loss = 2.082817, step = 12153 (0.235 sec)\n",
      "INFO:tensorflow:global_step/sec: 435.673\n",
      "INFO:tensorflow:loss = 2.311024, step = 12253 (0.229 sec)\n",
      "INFO:tensorflow:global_step/sec: 446.163\n",
      "INFO:tensorflow:loss = 1.8471785, step = 12353 (0.224 sec)\n",
      "INFO:tensorflow:global_step/sec: 368.794\n",
      "INFO:tensorflow:loss = 1.9068422, step = 12453 (0.270 sec)\n",
      "INFO:tensorflow:global_step/sec: 409.95\n",
      "INFO:tensorflow:loss = 1.6533213, step = 12553 (0.245 sec)\n",
      "INFO:tensorflow:global_step/sec: 460.732\n",
      "INFO:tensorflow:loss = 1.7800031, step = 12653 (0.216 sec)\n",
      "INFO:tensorflow:global_step/sec: 466.398\n",
      "INFO:tensorflow:loss = 2.1469023, step = 12753 (0.215 sec)\n",
      "INFO:tensorflow:global_step/sec: 482.665\n",
      "INFO:tensorflow:loss = 1.881583, step = 12853 (0.207 sec)\n",
      "INFO:tensorflow:global_step/sec: 416.686\n",
      "INFO:tensorflow:loss = 2.0864356, step = 12953 (0.240 sec)\n",
      "INFO:tensorflow:global_step/sec: 473.857\n",
      "INFO:tensorflow:loss = 1.8853449, step = 13053 (0.210 sec)\n",
      "INFO:tensorflow:global_step/sec: 468.336\n",
      "INFO:tensorflow:loss = 2.2563412, step = 13153 (0.215 sec)\n",
      "INFO:tensorflow:global_step/sec: 466.827\n",
      "INFO:tensorflow:loss = 1.794317, step = 13253 (0.213 sec)\n",
      "INFO:tensorflow:global_step/sec: 428.075\n",
      "INFO:tensorflow:loss = 1.7377918, step = 13353 (0.233 sec)\n",
      "INFO:tensorflow:global_step/sec: 422.229\n",
      "INFO:tensorflow:loss = 2.00697, step = 13453 (0.238 sec)\n",
      "INFO:tensorflow:global_step/sec: 436.222\n",
      "INFO:tensorflow:loss = 1.9427273, step = 13553 (0.228 sec)\n",
      "INFO:tensorflow:global_step/sec: 420.299\n",
      "INFO:tensorflow:loss = 2.13679, step = 13653 (0.239 sec)\n",
      "INFO:tensorflow:global_step/sec: 420.881\n",
      "INFO:tensorflow:loss = 2.7690005, step = 13753 (0.238 sec)\n",
      "INFO:tensorflow:global_step/sec: 448.418\n",
      "INFO:tensorflow:loss = 1.7328086, step = 13853 (0.223 sec)\n",
      "INFO:tensorflow:global_step/sec: 436.118\n",
      "INFO:tensorflow:loss = 2.2302732, step = 13953 (0.229 sec)\n",
      "INFO:tensorflow:global_step/sec: 438.908\n",
      "INFO:tensorflow:loss = 2.0420218, step = 14053 (0.228 sec)\n",
      "INFO:tensorflow:global_step/sec: 418.792\n",
      "INFO:tensorflow:loss = 2.1732857, step = 14153 (0.239 sec)\n",
      "INFO:tensorflow:global_step/sec: 419.157\n",
      "INFO:tensorflow:loss = 1.8221254, step = 14253 (0.238 sec)\n",
      "INFO:tensorflow:global_step/sec: 453.778\n",
      "INFO:tensorflow:loss = 1.4322484, step = 14353 (0.220 sec)\n",
      "INFO:tensorflow:global_step/sec: 456.229\n",
      "INFO:tensorflow:loss = 1.9577581, step = 14453 (0.220 sec)\n",
      "INFO:tensorflow:global_step/sec: 455.475\n",
      "INFO:tensorflow:loss = 1.8145986, step = 14553 (0.219 sec)\n",
      "INFO:tensorflow:global_step/sec: 428.564\n",
      "INFO:tensorflow:loss = 1.5857228, step = 14653 (0.233 sec)\n",
      "INFO:tensorflow:global_step/sec: 446.971\n",
      "INFO:tensorflow:loss = 2.5019727, step = 14753 (0.224 sec)\n",
      "INFO:tensorflow:global_step/sec: 411.504\n",
      "INFO:tensorflow:loss = 1.8228943, step = 14853 (0.243 sec)\n",
      "INFO:tensorflow:global_step/sec: 402.088\n",
      "INFO:tensorflow:loss = 1.7632868, step = 14953 (0.249 sec)\n",
      "INFO:tensorflow:global_step/sec: 420.934\n",
      "INFO:tensorflow:loss = 2.4245276, step = 15053 (0.238 sec)\n",
      "INFO:tensorflow:global_step/sec: 450.704\n",
      "INFO:tensorflow:loss = 1.4038157, step = 15153 (0.221 sec)\n",
      "INFO:tensorflow:global_step/sec: 466.712\n",
      "INFO:tensorflow:loss = 2.0750065, step = 15253 (0.215 sec)\n",
      "INFO:tensorflow:global_step/sec: 468.132\n",
      "INFO:tensorflow:loss = 1.4330246, step = 15353 (0.214 sec)\n",
      "INFO:tensorflow:global_step/sec: 450.94\n",
      "INFO:tensorflow:loss = 1.4033988, step = 15453 (0.222 sec)\n",
      "INFO:tensorflow:global_step/sec: 458.564\n",
      "INFO:tensorflow:loss = 1.6221505, step = 15553 (0.217 sec)\n",
      "INFO:tensorflow:global_step/sec: 429.098\n",
      "INFO:tensorflow:loss = 1.4333913, step = 15653 (0.234 sec)\n",
      "INFO:tensorflow:global_step/sec: 459.36\n",
      "INFO:tensorflow:loss = 2.0196586, step = 15753 (0.218 sec)\n",
      "INFO:tensorflow:global_step/sec: 457.545\n",
      "INFO:tensorflow:loss = 1.8655585, step = 15853 (0.218 sec)\n",
      "INFO:tensorflow:global_step/sec: 430.938\n",
      "INFO:tensorflow:loss = 2.100489, step = 15953 (0.232 sec)\n",
      "INFO:tensorflow:global_step/sec: 402.324\n",
      "INFO:tensorflow:loss = 2.1379976, step = 16053 (0.248 sec)\n",
      "INFO:tensorflow:global_step/sec: 405.643\n",
      "INFO:tensorflow:loss = 1.6653808, step = 16153 (0.247 sec)\n",
      "INFO:tensorflow:global_step/sec: 385.6\n",
      "INFO:tensorflow:loss = 1.9836669, step = 16253 (0.259 sec)\n",
      "INFO:tensorflow:global_step/sec: 452.725\n",
      "INFO:tensorflow:loss = 1.898108, step = 16353 (0.221 sec)\n",
      "INFO:tensorflow:global_step/sec: 412.065\n",
      "INFO:tensorflow:loss = 2.1587205, step = 16453 (0.243 sec)\n",
      "INFO:tensorflow:global_step/sec: 429.507\n",
      "INFO:tensorflow:loss = 1.5436794, step = 16553 (0.233 sec)\n",
      "INFO:tensorflow:global_step/sec: 426.783\n",
      "INFO:tensorflow:loss = 2.4032106, step = 16653 (0.234 sec)\n",
      "INFO:tensorflow:global_step/sec: 390.555\n",
      "INFO:tensorflow:loss = 2.2423167, step = 16753 (0.257 sec)\n",
      "INFO:tensorflow:global_step/sec: 454.51\n",
      "INFO:tensorflow:loss = 1.8648608, step = 16853 (0.219 sec)\n",
      "INFO:tensorflow:global_step/sec: 375.867\n",
      "INFO:tensorflow:loss = 1.918788, step = 16953 (0.266 sec)\n",
      "INFO:tensorflow:global_step/sec: 411.088\n",
      "INFO:tensorflow:loss = 2.779085, step = 17053 (0.243 sec)\n",
      "INFO:tensorflow:global_step/sec: 410.72\n",
      "INFO:tensorflow:loss = 1.8231685, step = 17153 (0.244 sec)\n",
      "INFO:tensorflow:global_step/sec: 411.171\n",
      "INFO:tensorflow:loss = 1.5972979, step = 17253 (0.243 sec)\n",
      "INFO:tensorflow:global_step/sec: 444.723\n",
      "INFO:tensorflow:loss = 1.9731276, step = 17353 (0.224 sec)\n",
      "INFO:tensorflow:global_step/sec: 459.354\n",
      "INFO:tensorflow:loss = 2.2228138, step = 17453 (0.219 sec)\n",
      "INFO:tensorflow:global_step/sec: 419.395\n",
      "INFO:tensorflow:loss = 1.8640505, step = 17553 (0.237 sec)\n",
      "INFO:tensorflow:global_step/sec: 415.937\n",
      "INFO:tensorflow:loss = 2.0292978, step = 17653 (0.241 sec)\n",
      "INFO:tensorflow:global_step/sec: 433.822\n",
      "INFO:tensorflow:loss = 1.7994694, step = 17753 (0.231 sec)\n",
      "INFO:tensorflow:global_step/sec: 444.8\n",
      "INFO:tensorflow:loss = 1.8829406, step = 17853 (0.224 sec)\n",
      "INFO:tensorflow:global_step/sec: 465.575\n",
      "INFO:tensorflow:loss = 2.1250045, step = 17953 (0.215 sec)\n",
      "INFO:tensorflow:global_step/sec: 437.479\n",
      "INFO:tensorflow:loss = 1.8891594, step = 18053 (0.230 sec)\n",
      "INFO:tensorflow:global_step/sec: 473.747\n",
      "INFO:tensorflow:loss = 2.3853214, step = 18153 (0.211 sec)\n",
      "INFO:tensorflow:global_step/sec: 456.173\n",
      "INFO:tensorflow:loss = 1.8766042, step = 18253 (0.220 sec)\n",
      "INFO:tensorflow:global_step/sec: 421.026\n",
      "INFO:tensorflow:loss = 1.9353074, step = 18353 (0.237 sec)\n",
      "INFO:tensorflow:global_step/sec: 414.967\n",
      "INFO:tensorflow:loss = 1.8078079, step = 18453 (0.241 sec)\n",
      "INFO:tensorflow:global_step/sec: 413.786\n",
      "INFO:tensorflow:loss = 1.8081622, step = 18553 (0.242 sec)\n",
      "INFO:tensorflow:global_step/sec: 422.617\n",
      "INFO:tensorflow:loss = 1.9352734, step = 18653 (0.236 sec)\n",
      "INFO:tensorflow:global_step/sec: 402.836\n",
      "INFO:tensorflow:loss = 1.8617148, step = 18753 (0.248 sec)\n",
      "INFO:tensorflow:global_step/sec: 453.167\n",
      "INFO:tensorflow:loss = 2.0587385, step = 18853 (0.220 sec)\n",
      "INFO:tensorflow:global_step/sec: 426.651\n",
      "INFO:tensorflow:loss = 2.753782, step = 18953 (0.234 sec)\n",
      "INFO:tensorflow:global_step/sec: 466.32\n",
      "INFO:tensorflow:loss = 1.6813667, step = 19053 (0.213 sec)\n",
      "INFO:tensorflow:global_step/sec: 464.423\n",
      "INFO:tensorflow:loss = 2.2133179, step = 19153 (0.216 sec)\n",
      "INFO:tensorflow:global_step/sec: 438.454\n",
      "INFO:tensorflow:loss = 2.0744944, step = 19253 (0.228 sec)\n",
      "INFO:tensorflow:global_step/sec: 459.603\n"
     ]
    },
    {
     "name": "stdout",
     "output_type": "stream",
     "text": [
      "INFO:tensorflow:loss = 2.2307875, step = 19353 (0.217 sec)\n",
      "INFO:tensorflow:global_step/sec: 417.317\n",
      "INFO:tensorflow:loss = 1.8246284, step = 19453 (0.240 sec)\n",
      "INFO:tensorflow:global_step/sec: 391.658\n",
      "INFO:tensorflow:loss = 1.4174294, step = 19553 (0.254 sec)\n",
      "INFO:tensorflow:global_step/sec: 433.578\n",
      "INFO:tensorflow:loss = 1.8937591, step = 19653 (0.232 sec)\n",
      "INFO:tensorflow:global_step/sec: 432.141\n",
      "INFO:tensorflow:loss = 1.7600145, step = 19753 (0.232 sec)\n",
      "INFO:tensorflow:global_step/sec: 445.26\n",
      "INFO:tensorflow:loss = 1.4180251, step = 19853 (0.223 sec)\n",
      "INFO:tensorflow:global_step/sec: 428.719\n",
      "INFO:tensorflow:loss = 2.4853358, step = 19953 (0.233 sec)\n",
      "INFO:tensorflow:global_step/sec: 471.999\n",
      "INFO:tensorflow:loss = 1.8828263, step = 20053 (0.212 sec)\n",
      "INFO:tensorflow:global_step/sec: 458.018\n",
      "INFO:tensorflow:loss = 1.6104474, step = 20153 (0.218 sec)\n",
      "INFO:tensorflow:global_step/sec: 447.389\n",
      "INFO:tensorflow:loss = 2.2975628, step = 20253 (0.224 sec)\n",
      "INFO:tensorflow:global_step/sec: 422.536\n",
      "INFO:tensorflow:loss = 1.4730606, step = 20353 (0.237 sec)\n",
      "INFO:tensorflow:global_step/sec: 447.68\n",
      "INFO:tensorflow:loss = 2.0554745, step = 20453 (0.222 sec)\n",
      "INFO:tensorflow:global_step/sec: 416.338\n",
      "INFO:tensorflow:loss = 1.4440105, step = 20553 (0.242 sec)\n",
      "INFO:tensorflow:global_step/sec: 449.281\n",
      "INFO:tensorflow:loss = 1.4746542, step = 20653 (0.221 sec)\n",
      "INFO:tensorflow:global_step/sec: 439.88\n",
      "INFO:tensorflow:loss = 1.5336962, step = 20753 (0.228 sec)\n",
      "INFO:tensorflow:global_step/sec: 441.063\n",
      "INFO:tensorflow:loss = 1.4165157, step = 20853 (0.227 sec)\n",
      "INFO:tensorflow:global_step/sec: 421.007\n",
      "INFO:tensorflow:loss = 2.0485744, step = 20953 (0.237 sec)\n",
      "INFO:tensorflow:global_step/sec: 447.632\n",
      "INFO:tensorflow:loss = 1.9001116, step = 21053 (0.224 sec)\n",
      "INFO:tensorflow:global_step/sec: 401.484\n",
      "INFO:tensorflow:loss = 2.1630483, step = 21153 (0.250 sec)\n",
      "INFO:tensorflow:global_step/sec: 408.308\n",
      "INFO:tensorflow:loss = 2.1007514, step = 21253 (0.243 sec)\n",
      "INFO:tensorflow:global_step/sec: 411.909\n",
      "INFO:tensorflow:loss = 1.6178019, step = 21353 (0.245 sec)\n",
      "INFO:tensorflow:global_step/sec: 435.142\n",
      "INFO:tensorflow:loss = 2.0922384, step = 21453 (0.229 sec)\n",
      "INFO:tensorflow:global_step/sec: 429.041\n",
      "INFO:tensorflow:loss = 1.9424977, step = 21553 (0.233 sec)\n",
      "INFO:tensorflow:global_step/sec: 428.229\n",
      "INFO:tensorflow:loss = 2.2878013, step = 21653 (0.234 sec)\n",
      "INFO:tensorflow:global_step/sec: 386.815\n",
      "INFO:tensorflow:loss = 1.5979086, step = 21753 (0.259 sec)\n",
      "INFO:tensorflow:global_step/sec: 420.169\n",
      "INFO:tensorflow:loss = 2.6026163, step = 21853 (0.238 sec)\n",
      "INFO:tensorflow:global_step/sec: 426.669\n",
      "INFO:tensorflow:loss = 1.9893345, step = 21953 (0.234 sec)\n",
      "INFO:tensorflow:global_step/sec: 359.606\n",
      "INFO:tensorflow:loss = 2.0159163, step = 22053 (0.277 sec)\n",
      "INFO:tensorflow:global_step/sec: 368.457\n",
      "INFO:tensorflow:loss = 1.9177366, step = 22153 (0.272 sec)\n",
      "INFO:tensorflow:global_step/sec: 434.186\n",
      "INFO:tensorflow:loss = 2.5671759, step = 22253 (0.230 sec)\n",
      "INFO:tensorflow:global_step/sec: 369.016\n",
      "INFO:tensorflow:loss = 2.046589, step = 22353 (0.271 sec)\n",
      "INFO:tensorflow:global_step/sec: 455.481\n",
      "INFO:tensorflow:loss = 1.5816495, step = 22453 (0.221 sec)\n",
      "INFO:tensorflow:global_step/sec: 450.331\n",
      "INFO:tensorflow:loss = 1.8500669, step = 22553 (0.222 sec)\n",
      "INFO:tensorflow:global_step/sec: 449.473\n",
      "INFO:tensorflow:loss = 2.2215707, step = 22653 (0.223 sec)\n",
      "INFO:tensorflow:global_step/sec: 452.074\n",
      "INFO:tensorflow:loss = 1.8555545, step = 22753 (0.221 sec)\n",
      "INFO:tensorflow:global_step/sec: 426.929\n",
      "INFO:tensorflow:loss = 2.0077026, step = 22853 (0.233 sec)\n",
      "INFO:tensorflow:global_step/sec: 392.44\n",
      "INFO:tensorflow:loss = 1.665541, step = 22953 (0.256 sec)\n",
      "INFO:tensorflow:global_step/sec: 424.481\n",
      "INFO:tensorflow:loss = 1.6584944, step = 23053 (0.234 sec)\n",
      "INFO:tensorflow:global_step/sec: 435.477\n",
      "INFO:tensorflow:loss = 2.077135, step = 23153 (0.231 sec)\n",
      "INFO:tensorflow:global_step/sec: 451.961\n",
      "INFO:tensorflow:loss = 1.7977685, step = 23253 (0.220 sec)\n",
      "INFO:tensorflow:global_step/sec: 458.415\n",
      "INFO:tensorflow:loss = 2.1428545, step = 23353 (0.218 sec)\n",
      "INFO:tensorflow:global_step/sec: 474.261\n",
      "INFO:tensorflow:loss = 1.7546389, step = 23453 (0.211 sec)\n",
      "INFO:tensorflow:global_step/sec: 475.446\n",
      "INFO:tensorflow:loss = 1.8374586, step = 23553 (0.210 sec)\n",
      "INFO:tensorflow:global_step/sec: 480.495\n",
      "INFO:tensorflow:loss = 1.8103459, step = 23653 (0.209 sec)\n",
      "INFO:tensorflow:global_step/sec: 466.327\n",
      "INFO:tensorflow:loss = 1.7039639, step = 23753 (0.213 sec)\n",
      "INFO:tensorflow:global_step/sec: 445.248\n",
      "INFO:tensorflow:loss = 1.9601969, step = 23853 (0.226 sec)\n",
      "INFO:tensorflow:global_step/sec: 409.078\n",
      "INFO:tensorflow:loss = 1.4323549, step = 23953 (0.243 sec)\n",
      "INFO:tensorflow:global_step/sec: 397.373\n",
      "INFO:tensorflow:loss = 2.02464, step = 24053 (0.253 sec)\n",
      "INFO:tensorflow:global_step/sec: 425.154\n",
      "INFO:tensorflow:loss = 2.4613843, step = 24153 (0.234 sec)\n",
      "INFO:tensorflow:global_step/sec: 432.539\n",
      "INFO:tensorflow:loss = 1.7701409, step = 24253 (0.232 sec)\n",
      "INFO:tensorflow:global_step/sec: 431.898\n",
      "INFO:tensorflow:loss = 2.1808887, step = 24353 (0.231 sec)\n",
      "INFO:tensorflow:global_step/sec: 362.596\n",
      "INFO:tensorflow:loss = 1.9363596, step = 24453 (0.275 sec)\n",
      "INFO:tensorflow:global_step/sec: 439.089\n",
      "INFO:tensorflow:loss = 2.1907425, step = 24553 (0.229 sec)\n",
      "INFO:tensorflow:global_step/sec: 469.318\n",
      "INFO:tensorflow:loss = 1.6628504, step = 24653 (0.213 sec)\n",
      "INFO:tensorflow:global_step/sec: 394.337\n",
      "INFO:tensorflow:loss = 1.7174358, step = 24753 (0.253 sec)\n",
      "INFO:tensorflow:global_step/sec: 456.922\n",
      "INFO:tensorflow:loss = 2.088818, step = 24853 (0.219 sec)\n",
      "INFO:tensorflow:global_step/sec: 432.089\n",
      "INFO:tensorflow:loss = 1.6442355, step = 24953 (0.232 sec)\n",
      "INFO:tensorflow:global_step/sec: 431.79\n",
      "INFO:tensorflow:loss = 1.5175183, step = 25053 (0.230 sec)\n",
      "INFO:tensorflow:global_step/sec: 450.484\n",
      "INFO:tensorflow:loss = 2.5014794, step = 25153 (0.223 sec)\n",
      "INFO:tensorflow:global_step/sec: 411.548\n",
      "INFO:tensorflow:loss = 1.9132607, step = 25253 (0.243 sec)\n",
      "INFO:tensorflow:global_step/sec: 458.981\n",
      "INFO:tensorflow:loss = 1.5633101, step = 25353 (0.218 sec)\n",
      "INFO:tensorflow:global_step/sec: 413.251\n",
      "INFO:tensorflow:loss = 2.0214748, step = 25453 (0.242 sec)\n",
      "INFO:tensorflow:global_step/sec: 409.915\n",
      "INFO:tensorflow:loss = 1.997931, step = 25553 (0.244 sec)\n",
      "INFO:tensorflow:global_step/sec: 430.849\n",
      "INFO:tensorflow:loss = 1.9801439, step = 25653 (0.232 sec)\n",
      "INFO:tensorflow:global_step/sec: 433.751\n",
      "INFO:tensorflow:loss = 1.5363054, step = 25753 (0.231 sec)\n",
      "INFO:tensorflow:global_step/sec: 425.166\n",
      "INFO:tensorflow:loss = 1.3522356, step = 25853 (0.236 sec)\n",
      "INFO:tensorflow:global_step/sec: 465.106\n",
      "INFO:tensorflow:loss = 1.5858781, step = 25953 (0.214 sec)\n",
      "INFO:tensorflow:global_step/sec: 463.54\n",
      "INFO:tensorflow:loss = 1.408636, step = 26053 (0.216 sec)\n",
      "INFO:tensorflow:global_step/sec: 422.783\n",
      "INFO:tensorflow:loss = 1.8506571, step = 26153 (0.235 sec)\n",
      "INFO:tensorflow:global_step/sec: 435.694\n",
      "INFO:tensorflow:loss = 1.8526328, step = 26253 (0.230 sec)\n",
      "INFO:tensorflow:global_step/sec: 464.85\n",
      "INFO:tensorflow:loss = 1.7439084, step = 26353 (0.216 sec)\n",
      "INFO:tensorflow:global_step/sec: 430.702\n",
      "INFO:tensorflow:loss = 2.3367534, step = 26453 (0.231 sec)\n",
      "INFO:tensorflow:global_step/sec: 424.758\n",
      "INFO:tensorflow:loss = 1.7118697, step = 26553 (0.236 sec)\n",
      "INFO:tensorflow:global_step/sec: 429.943\n",
      "INFO:tensorflow:loss = 2.1118398, step = 26653 (0.233 sec)\n",
      "INFO:tensorflow:global_step/sec: 463.755\n",
      "INFO:tensorflow:loss = 1.6845093, step = 26753 (0.214 sec)\n",
      "INFO:tensorflow:global_step/sec: 461.133\n",
      "INFO:tensorflow:loss = 2.2058573, step = 26853 (0.217 sec)\n",
      "INFO:tensorflow:global_step/sec: 435.386\n",
      "INFO:tensorflow:loss = 1.860611, step = 26953 (0.231 sec)\n",
      "INFO:tensorflow:global_step/sec: 411.786\n",
      "INFO:tensorflow:loss = 3.0047033, step = 27053 (0.243 sec)\n",
      "INFO:tensorflow:global_step/sec: 426.021\n",
      "INFO:tensorflow:loss = 2.078434, step = 27153 (0.235 sec)\n",
      "INFO:tensorflow:global_step/sec: 386.911\n",
      "INFO:tensorflow:loss = 1.986879, step = 27253 (0.257 sec)\n",
      "INFO:tensorflow:global_step/sec: 375.905\n",
      "INFO:tensorflow:loss = 1.8728367, step = 27353 (0.267 sec)\n",
      "INFO:tensorflow:global_step/sec: 407.622\n",
      "INFO:tensorflow:loss = 2.65552, step = 27453 (0.244 sec)\n",
      "INFO:tensorflow:global_step/sec: 436.849\n",
      "INFO:tensorflow:loss = 1.9529834, step = 27553 (0.231 sec)\n"
     ]
    },
    {
     "name": "stdout",
     "output_type": "stream",
     "text": [
      "INFO:tensorflow:global_step/sec: 411.545\n",
      "INFO:tensorflow:loss = 1.336238, step = 27653 (0.242 sec)\n",
      "INFO:tensorflow:global_step/sec: 459.698\n",
      "INFO:tensorflow:loss = 2.0395093, step = 27753 (0.218 sec)\n",
      "INFO:tensorflow:global_step/sec: 423.787\n",
      "INFO:tensorflow:loss = 2.2800384, step = 27853 (0.235 sec)\n",
      "INFO:tensorflow:global_step/sec: 409.093\n",
      "INFO:tensorflow:loss = 1.5472233, step = 27953 (0.244 sec)\n",
      "INFO:tensorflow:global_step/sec: 414.902\n",
      "INFO:tensorflow:loss = 2.1460938, step = 28053 (0.242 sec)\n",
      "INFO:tensorflow:global_step/sec: 410.62\n",
      "INFO:tensorflow:loss = 1.6643649, step = 28153 (0.243 sec)\n",
      "INFO:tensorflow:global_step/sec: 384.935\n",
      "INFO:tensorflow:loss = 1.7349815, step = 28253 (0.261 sec)\n",
      "INFO:tensorflow:global_step/sec: 399.986\n",
      "INFO:tensorflow:loss = 2.118942, step = 28353 (0.248 sec)\n",
      "INFO:tensorflow:global_step/sec: 406.965\n",
      "INFO:tensorflow:loss = 1.8481941, step = 28453 (0.247 sec)\n",
      "INFO:tensorflow:global_step/sec: 411.858\n",
      "INFO:tensorflow:loss = 2.0252671, step = 28553 (0.243 sec)\n",
      "INFO:tensorflow:global_step/sec: 399.533\n",
      "INFO:tensorflow:loss = 1.6551955, step = 28653 (0.250 sec)\n",
      "INFO:tensorflow:global_step/sec: 418.976\n",
      "INFO:tensorflow:loss = 1.8200672, step = 28753 (0.239 sec)\n",
      "INFO:tensorflow:global_step/sec: 406.729\n",
      "INFO:tensorflow:loss = 1.7049745, step = 28853 (0.246 sec)\n",
      "INFO:tensorflow:global_step/sec: 436.128\n",
      "INFO:tensorflow:loss = 1.6750696, step = 28953 (0.229 sec)\n",
      "INFO:tensorflow:global_step/sec: 436.472\n",
      "INFO:tensorflow:loss = 2.0884833, step = 29053 (0.230 sec)\n",
      "INFO:tensorflow:global_step/sec: 423.494\n",
      "INFO:tensorflow:loss = 1.4011858, step = 29153 (0.237 sec)\n",
      "INFO:tensorflow:global_step/sec: 443.671\n",
      "INFO:tensorflow:loss = 2.0062196, step = 29253 (0.224 sec)\n",
      "INFO:tensorflow:global_step/sec: 428.211\n",
      "INFO:tensorflow:loss = 2.588523, step = 29353 (0.234 sec)\n",
      "INFO:tensorflow:global_step/sec: 422.838\n",
      "INFO:tensorflow:loss = 1.6507137, step = 29453 (0.237 sec)\n",
      "INFO:tensorflow:global_step/sec: 439.62\n",
      "INFO:tensorflow:loss = 2.0836306, step = 29553 (0.227 sec)\n",
      "INFO:tensorflow:global_step/sec: 448.313\n",
      "INFO:tensorflow:loss = 1.8500539, step = 29653 (0.222 sec)\n",
      "INFO:tensorflow:global_step/sec: 422.703\n",
      "INFO:tensorflow:loss = 2.1751933, step = 29753 (0.238 sec)\n",
      "INFO:tensorflow:global_step/sec: 426.143\n",
      "INFO:tensorflow:loss = 1.518245, step = 29853 (0.234 sec)\n",
      "INFO:tensorflow:global_step/sec: 436.636\n",
      "INFO:tensorflow:loss = 1.6683633, step = 29953 (0.228 sec)\n",
      "INFO:tensorflow:global_step/sec: 414.164\n",
      "INFO:tensorflow:loss = 2.1281393, step = 30053 (0.243 sec)\n",
      "INFO:tensorflow:global_step/sec: 443.931\n",
      "INFO:tensorflow:loss = 1.61902, step = 30153 (0.225 sec)\n",
      "INFO:tensorflow:global_step/sec: 437.371\n",
      "INFO:tensorflow:loss = 1.510107, step = 30253 (0.228 sec)\n",
      "INFO:tensorflow:global_step/sec: 459.926\n",
      "INFO:tensorflow:loss = 2.5492115, step = 30353 (0.217 sec)\n",
      "INFO:tensorflow:global_step/sec: 427.309\n",
      "INFO:tensorflow:loss = 1.8431606, step = 30453 (0.234 sec)\n",
      "INFO:tensorflow:global_step/sec: 417.947\n",
      "INFO:tensorflow:loss = 1.6777328, step = 30553 (0.239 sec)\n",
      "INFO:tensorflow:global_step/sec: 446.71\n",
      "INFO:tensorflow:loss = 1.9665853, step = 30653 (0.224 sec)\n",
      "INFO:tensorflow:global_step/sec: 387.758\n",
      "INFO:tensorflow:loss = 1.8388857, step = 30753 (0.259 sec)\n",
      "INFO:tensorflow:global_step/sec: 382.097\n",
      "INFO:tensorflow:loss = 2.0580873, step = 30853 (0.262 sec)\n",
      "INFO:tensorflow:global_step/sec: 449.62\n",
      "INFO:tensorflow:loss = 1.5818486, step = 30953 (0.222 sec)\n",
      "INFO:tensorflow:global_step/sec: 477.888\n",
      "INFO:tensorflow:loss = 1.4702117, step = 31053 (0.209 sec)\n",
      "INFO:tensorflow:global_step/sec: 467.364\n",
      "INFO:tensorflow:loss = 1.7432172, step = 31153 (0.214 sec)\n",
      "INFO:tensorflow:global_step/sec: 462.071\n",
      "INFO:tensorflow:loss = 1.5678787, step = 31253 (0.216 sec)\n",
      "INFO:tensorflow:global_step/sec: 450.877\n",
      "INFO:tensorflow:loss = 2.0310955, step = 31353 (0.222 sec)\n",
      "INFO:tensorflow:global_step/sec: 453.098\n",
      "INFO:tensorflow:loss = 1.8618468, step = 31453 (0.220 sec)\n",
      "INFO:tensorflow:global_step/sec: 459.793\n",
      "INFO:tensorflow:loss = 1.894804, step = 31553 (0.217 sec)\n",
      "INFO:tensorflow:global_step/sec: 434.037\n",
      "INFO:tensorflow:loss = 2.2374387, step = 31653 (0.231 sec)\n",
      "INFO:tensorflow:global_step/sec: 418.151\n",
      "INFO:tensorflow:loss = 1.833245, step = 31753 (0.238 sec)\n",
      "INFO:tensorflow:global_step/sec: 453.789\n",
      "INFO:tensorflow:loss = 2.1516268, step = 31853 (0.221 sec)\n",
      "INFO:tensorflow:global_step/sec: 469.17\n",
      "INFO:tensorflow:loss = 1.8317184, step = 31953 (0.212 sec)\n",
      "INFO:tensorflow:global_step/sec: 459.053\n",
      "INFO:tensorflow:loss = 2.1421516, step = 32053 (0.218 sec)\n",
      "INFO:tensorflow:global_step/sec: 409.548\n",
      "INFO:tensorflow:loss = 1.7298388, step = 32153 (0.245 sec)\n",
      "INFO:tensorflow:global_step/sec: 443.419\n",
      "INFO:tensorflow:loss = 2.8939466, step = 32253 (0.224 sec)\n",
      "INFO:tensorflow:global_step/sec: 407.332\n",
      "INFO:tensorflow:loss = 2.1389616, step = 32353 (0.245 sec)\n",
      "INFO:tensorflow:global_step/sec: 417.11\n",
      "INFO:tensorflow:loss = 1.949916, step = 32453 (0.241 sec)\n",
      "INFO:tensorflow:global_step/sec: 445.651\n",
      "INFO:tensorflow:loss = 1.7712302, step = 32553 (0.224 sec)\n",
      "INFO:tensorflow:global_step/sec: 453.388\n",
      "INFO:tensorflow:loss = 2.6834755, step = 32653 (0.220 sec)\n",
      "INFO:tensorflow:global_step/sec: 368.305\n",
      "INFO:tensorflow:loss = 1.8374741, step = 32753 (0.271 sec)\n",
      "INFO:tensorflow:global_step/sec: 387.079\n",
      "INFO:tensorflow:loss = 1.3072656, step = 32853 (0.259 sec)\n",
      "INFO:tensorflow:global_step/sec: 414.082\n",
      "INFO:tensorflow:loss = 2.2135315, step = 32953 (0.243 sec)\n",
      "INFO:tensorflow:global_step/sec: 444.644\n",
      "INFO:tensorflow:loss = 2.310699, step = 33053 (0.224 sec)\n",
      "INFO:tensorflow:global_step/sec: 449.147\n",
      "INFO:tensorflow:loss = 1.4897492, step = 33153 (0.224 sec)\n",
      "INFO:tensorflow:global_step/sec: 454.889\n",
      "INFO:tensorflow:loss = 2.1689413, step = 33253 (0.218 sec)\n",
      "INFO:tensorflow:global_step/sec: 444.468\n",
      "INFO:tensorflow:loss = 1.775844, step = 33353 (0.224 sec)\n",
      "INFO:tensorflow:global_step/sec: 458.716\n",
      "INFO:tensorflow:loss = 1.6444967, step = 33453 (0.219 sec)\n",
      "INFO:tensorflow:global_step/sec: 450.842\n",
      "INFO:tensorflow:loss = 2.332425, step = 33553 (0.220 sec)\n",
      "INFO:tensorflow:global_step/sec: 469.365\n",
      "INFO:tensorflow:loss = 1.6858554, step = 33653 (0.215 sec)\n",
      "INFO:tensorflow:global_step/sec: 461.214\n",
      "INFO:tensorflow:loss = 1.9980228, step = 33753 (0.217 sec)\n",
      "INFO:tensorflow:global_step/sec: 468.531\n",
      "INFO:tensorflow:loss = 1.661292, step = 33853 (0.213 sec)\n",
      "INFO:tensorflow:global_step/sec: 434.539\n",
      "INFO:tensorflow:loss = 1.794176, step = 33953 (0.230 sec)\n",
      "INFO:tensorflow:global_step/sec: 474.069\n",
      "INFO:tensorflow:loss = 1.7829709, step = 34053 (0.211 sec)\n",
      "INFO:tensorflow:global_step/sec: 393.131\n",
      "INFO:tensorflow:loss = 1.5366856, step = 34153 (0.253 sec)\n",
      "INFO:tensorflow:global_step/sec: 448.704\n",
      "INFO:tensorflow:loss = 2.2334027, step = 34253 (0.223 sec)\n",
      "INFO:tensorflow:global_step/sec: 449.402\n",
      "INFO:tensorflow:loss = 1.5555294, step = 34353 (0.224 sec)\n",
      "INFO:tensorflow:global_step/sec: 475.751\n",
      "INFO:tensorflow:loss = 1.90412, step = 34453 (0.210 sec)\n",
      "INFO:tensorflow:global_step/sec: 436.439\n",
      "INFO:tensorflow:loss = 2.585978, step = 34553 (0.228 sec)\n",
      "INFO:tensorflow:global_step/sec: 438.532\n",
      "INFO:tensorflow:loss = 1.4817071, step = 34653 (0.228 sec)\n",
      "INFO:tensorflow:Saving checkpoints for 34668 into ./model_trained/model.ckpt.\n",
      "INFO:tensorflow:Loss for final step: 1.1729553.\n"
     ]
    },
    {
     "data": {
      "text/plain": [
       "<tensorflow.python.estimator.canned.linear.LinearRegressor at 0x12fe3e9b0>"
      ]
     },
     "execution_count": 32,
     "metadata": {},
     "output_type": "execute_result"
    }
   ],
   "source": [
    "# train the model by passing the train & target dataframes\n",
    "model.train(pd_input_fn(train_x,train_y,1000))"
   ]
  },
  {
   "cell_type": "code",
   "execution_count": 33,
   "metadata": {
    "ExecuteTime": {
     "end_time": "2018-04-01T16:47:01.877930Z",
     "start_time": "2018-04-01T16:47:01.851061Z"
    },
    "collapsed": true,
    "hidden": true
   },
   "outputs": [],
   "source": [
    "# y_hat = predictions for the test set from the TF-LinearRegression Model\n",
    "y_hat = model.predict(test_input_fn(test_x,1))"
   ]
  },
  {
   "cell_type": "code",
   "execution_count": 34,
   "metadata": {
    "ExecuteTime": {
     "end_time": "2018-04-01T16:47:02.235496Z",
     "start_time": "2018-04-01T16:47:01.879951Z"
    },
    "hidden": true
   },
   "outputs": [
    {
     "name": "stdout",
     "output_type": "stream",
     "text": [
      "INFO:tensorflow:Calling model_fn.\n",
      "INFO:tensorflow:Done calling model_fn.\n",
      "INFO:tensorflow:Graph was finalized.\n",
      "INFO:tensorflow:Restoring parameters from ./model_trained/model.ckpt-34668\n",
      "INFO:tensorflow:Running local_init_op.\n",
      "INFO:tensorflow:Done running local_init_op.\n"
     ]
    }
   ],
   "source": [
    "# Extract the predictions from the Generator object y_hat\n",
    "p = [p['predictions'][0] for p in itertools.islice(y_hat,len(test_y))]"
   ]
  },
  {
   "cell_type": "code",
   "execution_count": 35,
   "metadata": {
    "ExecuteTime": {
     "end_time": "2018-04-01T16:47:13.022405Z",
     "start_time": "2018-04-01T16:47:13.016824Z"
    },
    "hidden": true
   },
   "outputs": [
    {
     "data": {
      "text/plain": [
       "0.12459678730601255"
      ]
     },
     "execution_count": 35,
     "metadata": {},
     "output_type": "execute_result"
    }
   ],
   "source": [
    "# Root mean square error on the test set for the prediction model\n",
    "np.sqrt(metrics.mean_squared_error(y_pred=p,y_true=test_y['imdb_score']))"
   ]
  },
  {
   "cell_type": "code",
   "execution_count": 36,
   "metadata": {
    "ExecuteTime": {
     "end_time": "2018-04-01T16:47:17.000919Z",
     "start_time": "2018-04-01T16:47:16.995320Z"
    },
    "hidden": true
   },
   "outputs": [
    {
     "data": {
      "text/plain": [
       "0.0949382753062829"
      ]
     },
     "execution_count": 36,
     "metadata": {},
     "output_type": "execute_result"
    }
   ],
   "source": [
    "# mean Absolute Error for the tensorflow linear regression model\n",
    "metrics.mean_absolute_error(p,test_y)"
   ]
  },
  {
   "cell_type": "code",
   "execution_count": 37,
   "metadata": {
    "ExecuteTime": {
     "end_time": "2018-04-01T16:47:26.222980Z",
     "start_time": "2018-04-01T16:47:25.783646Z"
    },
    "hidden": true
   },
   "outputs": [
    {
     "name": "stdout",
     "output_type": "stream",
     "text": [
      "INFO:tensorflow:Calling model_fn.\n",
      "INFO:tensorflow:Done calling model_fn.\n",
      "INFO:tensorflow:Starting evaluation at 2018-04-01-16:47:25\n",
      "INFO:tensorflow:Graph was finalized.\n",
      "INFO:tensorflow:Restoring parameters from ./model_trained/model.ckpt-34668\n",
      "INFO:tensorflow:Running local_init_op.\n",
      "INFO:tensorflow:Done running local_init_op.\n",
      "INFO:tensorflow:Finished evaluation at 2018-04-01-16:47:26\n",
      "INFO:tensorflow:Saving dict for global step 34668: average_loss = 0.0155243585, global_step = 34668, loss = 1.9580097\n"
     ]
    }
   ],
   "source": [
    "results = model.evaluate(eval_input_fn(test_x,test_y,1))"
   ]
  },
  {
   "cell_type": "code",
   "execution_count": 31,
   "metadata": {
    "ExecuteTime": {
     "end_time": "2018-04-01T16:43:49.964884Z",
     "start_time": "2018-04-01T16:43:49.960462Z"
    },
    "hidden": true
   },
   "outputs": [
    {
     "name": "stdout",
     "output_type": "stream",
     "text": [
      "average_loss: 0.015529307\n",
      "global_step: 3152\n",
      "loss: 1.9834267\n"
     ]
    }
   ],
   "source": [
    "for key in sorted(results):\n",
    "    print(\"%s: %s\" % (key, results[key]))"
   ]
  },
  {
   "cell_type": "markdown",
   "metadata": {},
   "source": [
    "## dnn regressor (Deep Neural Net)"
   ]
  },
  {
   "cell_type": "code",
   "execution_count": 39,
   "metadata": {
    "ExecuteTime": {
     "end_time": "2018-04-01T16:48:16.473436Z",
     "start_time": "2018-04-01T16:48:16.465585Z"
    }
   },
   "outputs": [
    {
     "name": "stdout",
     "output_type": "stream",
     "text": [
      "INFO:tensorflow:Using default config.\n",
      "INFO:tensorflow:Using config: {'_model_dir': './model_trained_dnn', '_tf_random_seed': None, '_save_summary_steps': 100, '_save_checkpoints_steps': None, '_save_checkpoints_secs': 600, '_session_config': None, '_keep_checkpoint_max': 5, '_keep_checkpoint_every_n_hours': 10000, '_log_step_count_steps': 100, '_service': None, '_cluster_spec': <tensorflow.python.training.server_lib.ClusterSpec object at 0x1321f40f0>, '_task_type': 'worker', '_task_id': 0, '_global_id_in_cluster': 0, '_master': '', '_evaluation_master': '', '_is_chief': True, '_num_ps_replicas': 0, '_num_worker_replicas': 1}\n"
     ]
    }
   ],
   "source": [
    "# Create a TensorFlow DNN Regressor\n",
    "regressor = tf.estimator.DNNRegressor(feature_columns=featcols,\n",
    "                                      hidden_units=[150,140,100,90,50,45,30,10,5,2],\n",
    "                                      model_dir='./model_trained_dnn')"
   ]
  },
  {
   "cell_type": "code",
   "execution_count": 40,
   "metadata": {
    "ExecuteTime": {
     "end_time": "2018-04-01T16:48:38.428338Z",
     "start_time": "2018-04-01T16:48:33.275923Z"
    }
   },
   "outputs": [
    {
     "name": "stdout",
     "output_type": "stream",
     "text": [
      "INFO:tensorflow:Calling model_fn.\n",
      "INFO:tensorflow:Done calling model_fn.\n",
      "INFO:tensorflow:Create CheckpointSaverHook.\n",
      "INFO:tensorflow:Graph was finalized.\n",
      "INFO:tensorflow:Running local_init_op.\n",
      "INFO:tensorflow:Done running local_init_op.\n",
      "INFO:tensorflow:Saving checkpoints for 1 into ./model_trained_dnn/model.ckpt.\n",
      "INFO:tensorflow:loss = 51.426704, step = 1\n",
      "INFO:tensorflow:global_step/sec: 230.962\n",
      "INFO:tensorflow:loss = 2.301396, step = 101 (0.434 sec)\n",
      "INFO:tensorflow:global_step/sec: 255.551\n",
      "INFO:tensorflow:loss = 2.9141653, step = 201 (0.391 sec)\n",
      "INFO:tensorflow:global_step/sec: 308.912\n",
      "INFO:tensorflow:loss = 2.026742, step = 301 (0.324 sec)\n",
      "INFO:tensorflow:global_step/sec: 286.031\n",
      "INFO:tensorflow:loss = 1.8410479, step = 401 (0.350 sec)\n",
      "INFO:tensorflow:global_step/sec: 284.128\n",
      "INFO:tensorflow:loss = 1.8524351, step = 501 (0.352 sec)\n",
      "INFO:tensorflow:global_step/sec: 286.009\n",
      "INFO:tensorflow:loss = 2.047486, step = 601 (0.350 sec)\n",
      "INFO:tensorflow:global_step/sec: 285.961\n",
      "INFO:tensorflow:loss = 1.7822559, step = 701 (0.350 sec)\n",
      "INFO:tensorflow:global_step/sec: 275.394\n",
      "INFO:tensorflow:loss = 1.1738148, step = 801 (0.363 sec)\n",
      "INFO:tensorflow:global_step/sec: 286.489\n",
      "INFO:tensorflow:loss = 1.8737718, step = 901 (0.349 sec)\n",
      "INFO:tensorflow:Saving checkpoints for 1000 into ./model_trained_dnn/model.ckpt.\n",
      "INFO:tensorflow:Loss for final step: 1.8061695.\n"
     ]
    },
    {
     "data": {
      "text/plain": [
       "<tensorflow.python.estimator.canned.dnn.DNNRegressor at 0x1321f4048>"
      ]
     },
     "execution_count": 40,
     "metadata": {},
     "output_type": "execute_result"
    }
   ],
   "source": [
    "# Train the DNN classifier \n",
    "regressor.train(input_fn=pd_input_fn(train_x,train_y,10000), steps=1000)"
   ]
  },
  {
   "cell_type": "code",
   "execution_count": 41,
   "metadata": {
    "ExecuteTime": {
     "end_time": "2018-04-01T16:48:57.891856Z",
     "start_time": "2018-04-01T16:48:57.155079Z"
    }
   },
   "outputs": [
    {
     "name": "stdout",
     "output_type": "stream",
     "text": [
      "INFO:tensorflow:Calling model_fn.\n",
      "INFO:tensorflow:Done calling model_fn.\n",
      "INFO:tensorflow:Starting evaluation at 2018-04-01-16:48:57\n",
      "INFO:tensorflow:Graph was finalized.\n",
      "INFO:tensorflow:Restoring parameters from ./model_trained_dnn/model.ckpt-1000\n",
      "INFO:tensorflow:Running local_init_op.\n",
      "INFO:tensorflow:Done running local_init_op.\n",
      "INFO:tensorflow:Finished evaluation at 2018-04-01-16:48:57\n",
      "INFO:tensorflow:Saving dict for global step 1000: average_loss = 0.014969681, global_step = 1000, loss = 1.888051\n"
     ]
    },
    {
     "data": {
      "text/plain": [
       "{'average_loss': 0.014969681, 'global_step': 1000, 'loss': 1.888051}"
      ]
     },
     "execution_count": 41,
     "metadata": {},
     "output_type": "execute_result"
    }
   ],
   "source": [
    "# Evaluate the model on test set\n",
    "regressor.evaluate(eval_input_fn(test_x,test_y,1))"
   ]
  },
  {
   "cell_type": "code",
   "execution_count": 43,
   "metadata": {
    "ExecuteTime": {
     "end_time": "2018-04-01T16:49:49.690900Z",
     "start_time": "2018-04-01T16:49:49.131111Z"
    }
   },
   "outputs": [
    {
     "name": "stdout",
     "output_type": "stream",
     "text": [
      "INFO:tensorflow:Calling model_fn.\n",
      "INFO:tensorflow:Done calling model_fn.\n",
      "INFO:tensorflow:Graph was finalized.\n",
      "INFO:tensorflow:Restoring parameters from ./model_trained_dnn/model.ckpt-1000\n",
      "INFO:tensorflow:Running local_init_op.\n",
      "INFO:tensorflow:Done running local_init_op.\n"
     ]
    }
   ],
   "source": [
    "# Get other evaluation metrics by getting the prediction on test set\n",
    "p = [p['predictions'][0] for p in itertools.islice(regressor.predict(test_input_fn(test_x,1)),len(test_y))]"
   ]
  },
  {
   "cell_type": "code",
   "execution_count": 44,
   "metadata": {
    "ExecuteTime": {
     "end_time": "2018-04-01T16:49:51.296992Z",
     "start_time": "2018-04-01T16:49:51.290955Z"
    }
   },
   "outputs": [
    {
     "data": {
      "text/plain": [
       "0.12235064778165017"
      ]
     },
     "execution_count": 44,
     "metadata": {},
     "output_type": "execute_result"
    }
   ],
   "source": [
    "# Root Mean Square Error on the test set\n",
    "np.sqrt(metrics.mean_squared_error(y_pred=p,y_true=test_y['imdb_score']))"
   ]
  },
  {
   "cell_type": "code",
   "execution_count": 45,
   "metadata": {
    "ExecuteTime": {
     "end_time": "2018-04-01T16:49:55.614043Z",
     "start_time": "2018-04-01T16:49:55.607508Z"
    }
   },
   "outputs": [
    {
     "data": {
      "text/plain": [
       "0.0912004844491006"
      ]
     },
     "execution_count": 45,
     "metadata": {},
     "output_type": "execute_result"
    }
   ],
   "source": [
    "# mean Absolute Error for the tensorflow DNN model\n",
    "metrics.mean_absolute_error(p,test_y)"
   ]
  },
  {
   "cell_type": "code",
   "execution_count": null,
   "metadata": {
    "collapsed": true
   },
   "outputs": [],
   "source": []
  }
 ],
 "metadata": {
  "kernelspec": {
   "display_name": "Python 3",
   "language": "python",
   "name": "python3"
  },
  "language_info": {
   "codemirror_mode": {
    "name": "ipython",
    "version": 3
   },
   "file_extension": ".py",
   "mimetype": "text/x-python",
   "name": "python",
   "nbconvert_exporter": "python",
   "pygments_lexer": "ipython3",
   "version": "3.6.1"
  }
 },
 "nbformat": 4,
 "nbformat_minor": 2
}
